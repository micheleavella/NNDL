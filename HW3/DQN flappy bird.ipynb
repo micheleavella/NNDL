{
 "cells": [
  {
   "cell_type": "code",
   "execution_count": 1,
   "id": "3cee410e",
   "metadata": {},
   "outputs": [],
   "source": [
    "import random\n",
    "import torch\n",
    "import numpy as np\n",
    "import gym\n",
    "import matplotlib.pyplot as plt\n",
    "from tqdm.notebook import tqdm\n",
    "from torch import nn\n",
    "from collections import deque\n",
    "import flappy_bird_gym\n",
    "import time"
   ]
  },
  {
   "cell_type": "code",
   "execution_count": 2,
   "id": "77f12f32",
   "metadata": {},
   "outputs": [],
   "source": [
    "def moving_average(a, n=3): \n",
    "    ret = np.cumsum(a, dtype=float)\n",
    "    ret[n:] = ret[n:] - ret[:-n]\n",
    "    return ret[n - 1:] / n"
   ]
  },
  {
   "cell_type": "code",
   "execution_count": 3,
   "id": "6c891b90",
   "metadata": {},
   "outputs": [],
   "source": [
    "class DQN(nn.Module):\n",
    "\n",
    "    def __init__(self, state_space_dim, action_space_dim):\n",
    "        super().__init__()\n",
    "\n",
    "        self.linear = nn.Sequential(\n",
    "            nn.Linear(in_features=state_space_dim,out_features=128), \n",
    "            nn.ReLU(True),\n",
    "            nn.Linear(in_features=128,out_features=128), \n",
    "            nn.ReLU(True),\n",
    "            nn.Linear(in_features=128,out_features=action_space_dim)\n",
    "        )\n",
    "\n",
    "    def forward(self, x):\n",
    "        return self.linear(x) "
   ]
  },
  {
   "cell_type": "code",
   "execution_count": 4,
   "id": "2725a2fa",
   "metadata": {},
   "outputs": [],
   "source": [
    "class DQNAgent:\n",
    "    def __init__(self, params):\n",
    "        \n",
    "        self.state_size = params['state_size']\n",
    "        self.action_size = params['action_size']\n",
    "        \n",
    "        self.memory = deque(maxlen = 15_000)\n",
    "        self.min_sampl = 500\n",
    "        \n",
    "        self.target_up = params['target_up']\n",
    "        \n",
    "        self.gamma = params['gamma']\n",
    "        \n",
    "        self.eps = 1.\n",
    "        \n",
    "        self.model = DQN(self.state_size, self.action_size)\n",
    "        self.t_model = DQN(self.state_size, self.action_size)\n",
    "        self.t_model.load_state_dict(self.model.state_dict())\n",
    "        \n",
    "        self.opt = torch.optim.Adam(self.model.parameters(), lr=params['lr'])\n",
    "        self.loss_fn = nn.SmoothL1Loss()\n",
    "        \n",
    "    def remember(self, state, action, reward, next_state, done):\n",
    "        self.memory.append((state, action, reward, next_state, done))\n",
    "        \n",
    "    def act(self, state):\n",
    "        if np.random.rand() <= self.eps:\n",
    "            return np.random.randint(self.action_size)\n",
    "        with torch.no_grad():\n",
    "            act_values = self.model(state)\n",
    "        return torch.argmax(act_values).item()\n",
    "    \n",
    "    def replay(self, batch_size):\n",
    "        minibatch = random.sample(self.memory, batch_size)\n",
    "        \n",
    "        for state, action, reward, next_state, done in minibatch:\n",
    "            target = reward\n",
    "            if not done:\n",
    "                with torch.no_grad():\n",
    "                    target = (reward + self.gamma * torch.max(self.t_model(next_state)))\n",
    "            \n",
    "            target = torch.tensor(target).reshape((1))\n",
    "            predected = self.model(state)[:,action]\n",
    "               \n",
    "                \n",
    "            #print(predected, target)\n",
    "            loss = self.loss_fn(predected, target)\n",
    "\n",
    "            self.opt.zero_grad()\n",
    "            loss.backward()\n",
    "        \n",
    "        if self.eps > self.eps_min:\n",
    "            self.eps *= self.eps_decay\n",
    "            \n",
    "            \n",
    "    def replay_2(self,batch_size):\n",
    "        \n",
    "        # Sample the data from the replay memory\n",
    "        batch = random.sample(self.memory, batch_size)\n",
    "\n",
    "        # Create tensors for each element of the batch\n",
    "        states      = torch.tensor([s[0] for s in batch], dtype=torch.float32)\n",
    "        actions     = torch.tensor([s[1] for s in batch], dtype=torch.int64)\n",
    "        rewards     = torch.tensor([s[2] for s in batch], dtype=torch.float32)\n",
    "\n",
    "        # Compute a mask of non-final states (all the elements where the next state is not None)\n",
    "        non_final_next_states = torch.tensor([s[3] for s in batch if s[3] is not None], dtype=torch.float32) # the next state can be None if the game has ended\n",
    "        non_final_mask = torch.tensor([s[3] is not None for s in batch], dtype=torch.bool)\n",
    "\n",
    "        # Compute all the Q values (forward pass)\n",
    "        self.model.train()\n",
    "        q_values = self.model(states)\n",
    "        # Select the proper Q value for the corresponding action taken Q(s_t, a)\n",
    "        state_action_values = q_values.gather(1, actions.unsqueeze(1))\n",
    "\n",
    "        # Compute the value function of the next states using the target network V(s_{t+1}) = max_a( Q_target(s_{t+1}, a)) )\n",
    "        with torch.no_grad():\n",
    "            self.t_model.eval()\n",
    "            q_values_target = self.t_model(non_final_next_states)\n",
    "        next_state_max_q_values = torch.zeros(batch_size)\n",
    "        next_state_max_q_values[non_final_mask] = q_values_target.max(dim=1)[0]\n",
    "\n",
    "        # Compute the expected Q values\n",
    "        expected_state_action_values = rewards + (next_state_max_q_values * self.gamma)\n",
    "        expected_state_action_values = expected_state_action_values.unsqueeze(1) # Set the required tensor shape\n",
    "\n",
    "        # Compute the Huber loss\n",
    "        loss = self.loss_fn(state_action_values, expected_state_action_values)\n",
    "\n",
    "        # Optimize the model\n",
    "        self.opt.zero_grad()\n",
    "        loss.backward()\n",
    "        # Apply gradient clipping (clip all the gradients greater than 2 for training stability)\n",
    "        nn.utils.clip_grad_norm_(self.model.parameters(), 2)\n",
    "        self.opt.step()\n",
    "        \n",
    "        #if self.eps > self.eps_min:\n",
    "        #    self.eps *= self.eps_decay"
   ]
  },
  {
   "cell_type": "code",
   "execution_count": 5,
   "id": "d408c163",
   "metadata": {},
   "outputs": [],
   "source": [
    "def train(agent, epochs, lamb):\n",
    "    exp_decay = np.exp(-np.log(5) / epochs * lamb) \n",
    "    exploration_profile = [(exp_decay ** i) for i in range(epochs)]\n",
    "\n",
    "    pbar = tqdm(range(epochs))\n",
    "    SCORE = []\n",
    "    for e in pbar:\n",
    "        agent.eps = max(exploration_profile[e], 1e-4)\n",
    "        state = env.reset()\n",
    "        state = state.astype(np.float32)\n",
    "        done = False\n",
    "        score = 0\n",
    "        step = 0\n",
    "        while not done and step < 2000:\n",
    "\n",
    "            step += 1\n",
    "            \n",
    "            state_t = torch.from_numpy(state).unsqueeze(0)\n",
    "            action = agent.act(state_t)\n",
    "\n",
    "            next_state, reward, done, _ = env.step(action)\n",
    "            \n",
    "            \n",
    "            reward -= 1. * np.abs(state[1])\n",
    "            \n",
    "            next_state = next_state.astype(np.float32)\n",
    "            if done:\n",
    "                next_state = None\n",
    "\n",
    "            agent.remember(state, action, reward, next_state, done)\n",
    "\n",
    "\n",
    "            if len(agent.memory) > agent.min_sampl:\n",
    "                agent.replay_2(32)\n",
    "\n",
    "            state = next_state\n",
    "            score += reward \n",
    "\n",
    "            \n",
    "        SCORE.append(score)\n",
    "        \n",
    "        if e % agent.target_up == 0:\n",
    "            agent.t_model.load_state_dict(agent.model.state_dict())\n",
    "\n",
    "        if e % 10 == 0:\n",
    "            mean_score = np.mean(SCORE[-10:])\n",
    "            desc = 'Mean score: ' + str(int(mean_score)) + '\\t' + str(agent.eps)\n",
    "            pbar.set_description(desc)\n",
    "        \n",
    "            \n",
    "        \n",
    "    return SCORE"
   ]
  },
  {
   "cell_type": "code",
   "execution_count": 11,
   "id": "b75e3cbd",
   "metadata": {},
   "outputs": [
    {
     "data": {
      "application/vnd.jupyter.widget-view+json": {
       "model_id": "d1c4e7a5177543d9a3dac43d0d6b3dfd",
       "version_major": 2,
       "version_minor": 0
      },
      "text/plain": [
       "  0%|          | 0/3000 [00:00<?, ?it/s]"
      ]
     },
     "metadata": {},
     "output_type": "display_data"
    },
    {
     "name": "stderr",
     "output_type": "stream",
     "text": [
      "/tmp/ipykernel_57317/3858072732.py:62: UserWarning: Creating a tensor from a list of numpy.ndarrays is extremely slow. Please consider converting the list to a single numpy.ndarray with numpy.array() before converting to a tensor. (Triggered internally at  ../torch/csrc/utils/tensor_new.cpp:204.)\n",
      "  states      = torch.tensor([s[0] for s in batch], dtype=torch.float32)\n"
     ]
    }
   ],
   "source": [
    "env = gym.make('FlappyBird-v0')\n",
    "\n",
    "\n",
    "env.seed(1012390)\n",
    "torch.manual_seed(1012903)\n",
    "np.random.seed(1019023)\n",
    "random.seed(1013902)\n",
    "\n",
    "params = {\n",
    "    'state_size': 2,\n",
    "    'action_size': 2,\n",
    "    'lr': 5e-3,\n",
    "    'gamma': 0.97,\n",
    "    'target_up': 10,\n",
    "}\n",
    "\n",
    "agent = DQNAgent(params)\n",
    "\n",
    "epochs = 3000\n",
    "\n",
    "lamb = 5\n",
    "\n",
    "SCORE = train(agent, epochs, lamb)\n",
    "\n",
    "\n",
    "env.close()"
   ]
  },
  {
   "cell_type": "code",
   "execution_count": 48,
   "id": "e40dfba3",
   "metadata": {},
   "outputs": [
    {
     "data": {
      "image/png": "[encoded data removed]",
      "text/plain": [
       "<Figure size 720x288 with 1 Axes>"
      ]
     },
     "metadata": {
      "needs_background": "light"
     },
     "output_type": "display_data"
    }
   ],
   "source": [
    "plt.figure(figsize=(10,4))\n",
    "plt.plot(SCORE,label= 'Score', alpha = 0.7)\n",
    "plt.plot(moving_average(SCORE,200), color= 'r', linewidth = 3 , label= 'Moving average score')\n",
    "plt.ylim(40,400)\n",
    "plt.xlim(-10,2700)\n",
    "plt.xlabel(\"epochs\",fontsize=15)\n",
    "plt.ylabel(\"score\",fontsize=15)\n",
    "\n",
    "plt.legend(fontsize=15)\n",
    "\n",
    "plt.savefig(\"img/flappy_conv.png\",dpi = 300)"
   ]
  },
  {
   "cell_type": "code",
   "execution_count": 82,
   "id": "e05d17cc",
   "metadata": {
    "scrolled": true
   },
   "outputs": [],
   "source": [
    "torch.save(agent.model.state_dict(), \"flappy_model.h5\")"
   ]
  },
  {
   "cell_type": "code",
   "execution_count": 6,
   "id": "3ae75adf",
   "metadata": {},
   "outputs": [
    {
     "data": {
      "text/plain": [
       "<All keys matched successfully>"
      ]
     },
     "execution_count": 6,
     "metadata": {},
     "output_type": "execute_result"
    }
   ],
   "source": [
    "params = {\n",
    "    'state_size': 2,\n",
    "    'action_size': 2,\n",
    "    'lr': 5e-3,\n",
    "    'gamma': 0.97,\n",
    "    'target_up': 10,\n",
    "}\n",
    "\n",
    "\n",
    "tr_agent = DQNAgent(params)\n",
    "tr_agent.model.load_state_dict(torch.load(\"flappy_model.h5\"))\n"
   ]
  },
  {
   "cell_type": "code",
   "execution_count": 10,
   "id": "d5969c3b",
   "metadata": {},
   "outputs": [
    {
     "data": {
      "application/vnd.jupyter.widget-view+json": {
       "model_id": "d149fe94bdde4b4eb057b589372c11ad",
       "version_major": 2,
       "version_minor": 0
      },
      "text/plain": [
       "  0%|          | 0/400 [00:00<?, ?it/s]"
      ]
     },
     "metadata": {},
     "output_type": "display_data"
    }
   ],
   "source": [
    "env = gym.make('FlappyBird-v0') \n",
    "env.seed(102) \n",
    "state = env.reset()\n",
    "\n",
    "tr_agent.eps = 0.\n",
    "\n",
    "score = 0\n",
    "done = False\n",
    "\n",
    "frames = []\n",
    "\n",
    "for i in tqdm(range(400)):\n",
    "    state = state.astype(np.float32)\n",
    "    state_t = torch.from_numpy(state).unsqueeze(0)\n",
    "    action = tr_agent.act(state_t)\n",
    "    next_state, reward, done, info = env.step(action)\n",
    "    env.render()\n",
    "    env.render()\n",
    "    time.sleep(1/30)\n",
    "    score += reward \n",
    "    state = next_state\n",
    "    if done: break\n",
    "    \n",
    "env.close()\n"
   ]
  },
  {
   "cell_type": "code",
   "execution_count": 8,
   "id": "ca5263ad",
   "metadata": {},
   "outputs": [],
   "source": [
    "from gym.wrappers import Monitor\n",
    "env = Monitor(gym.make('FlappyBird-v0'), './Videos', force=True)\n",
    "state = env.reset()\n",
    "done = False\n",
    "while not done:\n",
    "    action = env.action_space.sample()\n",
    "    state_next, reward, done, info = env.step(action)\n",
    "env.close()\n"
   ]
  },
  {
   "cell_type": "code",
   "execution_count": null,
   "id": "fed0e2c3",
   "metadata": {},
   "outputs": [],
   "source": []
  }
 ],
 "metadata": {
  "kernelspec": {
   "display_name": "Python 3 (ipykernel)",
   "language": "python",
   "name": "python3"
  },
  "language_info": {
   "codemirror_mode": {
    "name": "ipython",
    "version": 3
   },
   "file_extension": ".py",
   "mimetype": "text/x-python",
   "name": "python",
   "nbconvert_exporter": "python",
   "pygments_lexer": "ipython3",
   "version": "3.9.12"
  }
 },
 "nbformat": 4,
 "nbformat_minor": 5
}
