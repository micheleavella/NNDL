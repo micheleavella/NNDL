{
 "cells": [
  {
   "cell_type": "code",
   "execution_count": 2,
   "id": "3cee410e",
   "metadata": {},
   "outputs": [],
   "source": [
    "import random\n",
    "import torch\n",
    "import numpy as np\n",
    "import gym\n",
    "import matplotlib.pyplot as plt\n",
    "from tqdm.notebook import tqdm\n",
    "from torch import nn\n",
    "from collections import deque\n",
    "import time\n",
    "import pandas as pd"
   ]
  },
  {
   "cell_type": "code",
   "execution_count": 3,
   "id": "77f12f32",
   "metadata": {},
   "outputs": [],
   "source": [
    "def moving_average(a, n=3): \n",
    "    ret = np.cumsum(a, dtype=float)\n",
    "    ret[n:] = ret[n:] - ret[:-n]\n",
    "    return ret[n - 1:] / n"
   ]
  },
  {
   "cell_type": "code",
   "execution_count": 4,
   "id": "6c891b90",
   "metadata": {},
   "outputs": [],
   "source": [
    "class DQN(nn.Module):\n",
    "\n",
    "    def __init__(self, state_space_dim, action_space_dim):\n",
    "        super().__init__()\n",
    "\n",
    "        self.linear = nn.Sequential(\n",
    "            nn.Linear(in_features=state_space_dim,out_features=128), \n",
    "            nn.ReLU(True),\n",
    "            nn.Linear(in_features=128,out_features=128), \n",
    "            nn.ReLU(True),\n",
    "            nn.Linear(in_features=128,out_features=action_space_dim)\n",
    "        )\n",
    "\n",
    "    def forward(self, x):\n",
    "        return self.linear(x) "
   ]
  },
  {
   "cell_type": "code",
   "execution_count": 5,
   "id": "2725a2fa",
   "metadata": {},
   "outputs": [],
   "source": [
    "class DQNAgent:\n",
    "    def __init__(self, params):\n",
    "        \n",
    "        self.state_size = params['state_size']\n",
    "        self.action_size = params['action_size']\n",
    "        \n",
    "        self.memory = deque(maxlen = 15_000)\n",
    "        self.min_sampl = 500\n",
    "        \n",
    "        self.target_up = params['target_up']\n",
    "        \n",
    "        self.gamma = params['gamma']\n",
    "        \n",
    "        self.eps = 1.\n",
    "        \n",
    "        self.model = DQN(self.state_size, self.action_size)\n",
    "        self.t_model = DQN(self.state_size, self.action_size)\n",
    "        self.t_model.load_state_dict(self.model.state_dict())\n",
    "        \n",
    "        self.opt = torch.optim.Adam(self.model.parameters(), lr=params['lr'])\n",
    "        self.loss_fn = nn.SmoothL1Loss()\n",
    "        \n",
    "    def remember(self, state, action, reward, next_state, done):\n",
    "        self.memory.append((state, action, reward, next_state, done))\n",
    "        \n",
    "    def act(self, state):\n",
    "        if np.random.rand() <= self.eps:\n",
    "            return np.random.randint(self.action_size)\n",
    "        with torch.no_grad():\n",
    "            act_values = self.model(state)\n",
    "        return torch.argmax(act_values).item()\n",
    "    \n",
    "    def replay(self, batch_size):\n",
    "        minibatch = random.sample(self.memory, batch_size)\n",
    "        \n",
    "        for state, action, reward, next_state, done in minibatch:\n",
    "            target = reward\n",
    "            if not done:\n",
    "                with torch.no_grad():\n",
    "                    target = (reward + self.gamma * torch.max(self.t_model(next_state)))\n",
    "            \n",
    "            target = torch.tensor(target).reshape((1))\n",
    "            predected = self.model(state)[:,action]\n",
    "               \n",
    "                \n",
    "            #print(predected, target)\n",
    "            loss = self.loss_fn(predected, target)\n",
    "\n",
    "            self.opt.zero_grad()\n",
    "            loss.backward()\n",
    "        \n",
    "        if self.eps > self.eps_min:\n",
    "            self.eps *= self.eps_decay\n",
    "            \n",
    "            \n",
    "    def replay_2(self,batch_size):\n",
    "        \n",
    "        # Sample the data from the replay memory\n",
    "        batch = random.sample(self.memory, batch_size)\n",
    "\n",
    "        # Create tensors for each element of the batch\n",
    "        states      = torch.tensor([s[0] for s in batch], dtype=torch.float32)\n",
    "        actions     = torch.tensor([s[1] for s in batch], dtype=torch.int64)\n",
    "        rewards     = torch.tensor([s[2] for s in batch], dtype=torch.float32)\n",
    "\n",
    "        # Compute a mask of non-final states (all the elements where the next state is not None)\n",
    "        non_final_next_states = torch.tensor([s[3] for s in batch if s[3] is not None], dtype=torch.float32) # the next state can be None if the game has ended\n",
    "        non_final_mask = torch.tensor([s[3] is not None for s in batch], dtype=torch.bool)\n",
    "\n",
    "        # Compute all the Q values (forward pass)\n",
    "        self.model.train()\n",
    "        q_values = self.model(states)\n",
    "        # Select the proper Q value for the corresponding action taken Q(s_t, a)\n",
    "        state_action_values = q_values.gather(1, actions.unsqueeze(1))\n",
    "\n",
    "        # Compute the value function of the next states using the target network V(s_{t+1}) = max_a( Q_target(s_{t+1}, a)) )\n",
    "        with torch.no_grad():\n",
    "            self.t_model.eval()\n",
    "            q_values_target = self.t_model(non_final_next_states)\n",
    "        next_state_max_q_values = torch.zeros(batch_size)\n",
    "        next_state_max_q_values[non_final_mask] = q_values_target.max(dim=1)[0]\n",
    "\n",
    "        # Compute the expected Q values\n",
    "        expected_state_action_values = rewards + (next_state_max_q_values * self.gamma)\n",
    "        expected_state_action_values = expected_state_action_values.unsqueeze(1) # Set the required tensor shape\n",
    "\n",
    "        # Compute the Huber loss\n",
    "        loss = self.loss_fn(state_action_values, expected_state_action_values)\n",
    "\n",
    "        # Optimize the model\n",
    "        self.opt.zero_grad()\n",
    "        loss.backward()\n",
    "        # Apply gradient clipping (clip all the gradients greater than 2 for training stability)\n",
    "        nn.utils.clip_grad_norm_(self.model.parameters(), 2)\n",
    "        self.opt.step()\n",
    "        \n",
    "        #if self.eps > self.eps_min:\n",
    "        #    self.eps *= self.eps_decay"
   ]
  },
  {
   "cell_type": "code",
   "execution_count": 14,
   "id": "d408c163",
   "metadata": {},
   "outputs": [],
   "source": [
    "def train(agent, epochs, lamb):\n",
    "    exp_decay = np.exp(-np.log(5) / epochs * lamb) \n",
    "    exploration_profile = [(exp_decay ** i) for i in range(epochs)]\n",
    "\n",
    "    pbar = tqdm(range(epochs))\n",
    "    SCORE = []\n",
    "    for e in pbar:\n",
    "        agent.eps = max(exploration_profile[e], 1e-4)\n",
    "        state = env.reset()\n",
    "        state = state.astype(np.float32)\n",
    "        done = False\n",
    "        score = 0\n",
    "        step = 0\n",
    "        while not done and step < 2000:\n",
    "\n",
    "            step += 1\n",
    "            \n",
    "            state_t = torch.from_numpy(state).unsqueeze(0)\n",
    "            action = agent.act(state_t)\n",
    "\n",
    "            next_state, reward, done, _ = env.step(action)\n",
    "            \n",
    "            \n",
    "            reward -= 1. * np.abs(state[0])\n",
    "            \n",
    "            next_state = next_state.astype(np.float32)\n",
    "            if done:\n",
    "                next_state = None\n",
    "\n",
    "            agent.remember(state, action, reward, next_state, done)\n",
    "\n",
    "\n",
    "            if len(agent.memory) > agent.min_sampl:\n",
    "                agent.replay_2(32)\n",
    "\n",
    "            state = next_state\n",
    "            score += reward \n",
    "\n",
    "            \n",
    "        SCORE.append(step)\n",
    "        \n",
    "        if e % agent.target_up == 0:\n",
    "            agent.t_model.load_state_dict(agent.model.state_dict())\n",
    "\n",
    "        if e % 10 == 0:\n",
    "            mean_score = np.mean(SCORE[-10:])\n",
    "            desc = 'Mean score: ' + str(int(mean_score)) + '\\t' + str(agent.eps)\n",
    "            pbar.set_description(desc)\n",
    "            \n",
    "        if np.mean(SCORE[-10:]) == 500:\n",
    "            break\n",
    "                    \n",
    "            \n",
    "        \n",
    "    return SCORE"
   ]
  },
  {
   "cell_type": "code",
   "execution_count": 15,
   "id": "b75e3cbd",
   "metadata": {},
   "outputs": [
    {
     "data": {
      "application/vnd.jupyter.widget-view+json": {
       "model_id": "8203e375ff2e4b14b0842b297d493234",
       "version_major": 2,
       "version_minor": 0
      },
      "text/plain": [
       "  0%|          | 0/1000 [00:00<?, ?it/s]"
      ]
     },
     "metadata": {},
     "output_type": "display_data"
    }
   ],
   "source": [
    "env = gym.make('CartPole-v1')\n",
    "\n",
    "\n",
    "env.seed(1012390)\n",
    "torch.manual_seed(1012903)\n",
    "np.random.seed(1019023)\n",
    "random.seed(1013902)\n",
    "\n",
    "params = {\n",
    "    'state_size': 4,\n",
    "    'action_size': 2,\n",
    "    'lr': 1e-3,\n",
    "    'gamma': 0.97,\n",
    "    'target_up': 5,\n",
    "}\n",
    "\n",
    "agent = DQNAgent(params)\n",
    "\n",
    "epochs = 1000\n",
    "\n",
    "lamb = 5\n",
    "\n",
    "SCORE = train(agent, epochs, lamb)\n",
    "\n",
    "\n",
    "env.close()"
   ]
  },
  {
   "cell_type": "code",
   "execution_count": 16,
   "id": "e40dfba3",
   "metadata": {},
   "outputs": [
    {
     "data": {
      "image/png": "[encoded data removed]",
      "text/plain": [
       "<Figure size 720x288 with 1 Axes>"
      ]
     },
     "metadata": {
      "needs_background": "light"
     },
     "output_type": "display_data"
    }
   ],
   "source": [
    "plt.figure(figsize=(10,4))\n",
    "plt.plot(SCORE,label= 'Score', alpha = 0.7)\n",
    "plt.plot(moving_average(SCORE,10), color= 'r', linewidth = 3 , label= 'Moving average score')\n",
    "plt.xlabel(\"epochs\",fontsize=15)\n",
    "plt.ylabel(\"score\",fontsize=15)\n",
    "\n",
    "plt.legend(fontsize=15)\n",
    "\n",
    "plt.savefig(\"img/cart_conv.png\",dpi = 300)"
   ]
  },
  {
   "cell_type": "code",
   "execution_count": 17,
   "id": "e05d17cc",
   "metadata": {
    "scrolled": true
   },
   "outputs": [],
   "source": [
    "torch.save(agent.model.state_dict(), \"cart_model.h5\")"
   ]
  },
  {
   "cell_type": "code",
   "execution_count": 18,
   "id": "3ae75adf",
   "metadata": {},
   "outputs": [
    {
     "data": {
      "text/plain": [
       "<All keys matched successfully>"
      ]
     },
     "execution_count": 18,
     "metadata": {},
     "output_type": "execute_result"
    }
   ],
   "source": [
    "params = {\n",
    "    'state_size': 4,\n",
    "    'action_size': 2,\n",
    "    'lr': 1e-3,\n",
    "    'gamma': 0.97,\n",
    "    'target_up': 5,\n",
    "}\n",
    "\n",
    "\n",
    "tr_agent = DQNAgent(params)\n",
    "tr_agent.model.load_state_dict(torch.load(\"cart_model.h5\"))\n"
   ]
  },
  {
   "cell_type": "code",
   "execution_count": 19,
   "id": "d5969c3b",
   "metadata": {},
   "outputs": [
    {
     "data": {
      "application/vnd.jupyter.widget-view+json": {
       "model_id": "c92df71a1f9a420aa002ecac36d9f7e2",
       "version_major": 2,
       "version_minor": 0
      },
      "text/plain": [
       "  0%|          | 0/400 [00:00<?, ?it/s]"
      ]
     },
     "metadata": {},
     "output_type": "display_data"
    }
   ],
   "source": [
    "env.seed(102) \n",
    "state = env.reset()\n",
    "\n",
    "tr_agent.eps = 0.\n",
    "\n",
    "score = 0\n",
    "done = False\n",
    "\n",
    "frames = []\n",
    "\n",
    "for i in tqdm(range(400)):\n",
    "    state = state.astype(np.float32)\n",
    "    state_t = torch.from_numpy(state).unsqueeze(0)\n",
    "    action = tr_agent.act(state_t)\n",
    "    next_state, reward, done, info = env.step(action)\n",
    "    env.render()\n",
    "    score += reward \n",
    "    state = next_state\n",
    "    if done: break\n",
    "    \n",
    "env.close()\n"
   ]
  },
  {
   "cell_type": "markdown",
   "id": "1a70eac5",
   "metadata": {},
   "source": [
    "### Different $\\lambda$"
   ]
  },
  {
   "cell_type": "code",
   "execution_count": 27,
   "id": "bb44cb04",
   "metadata": {},
   "outputs": [
    {
     "data": {
      "application/vnd.jupyter.widget-view+json": {
       "model_id": "b3d43848675746f38d47a9b54d134dc4",
       "version_major": 2,
       "version_minor": 0
      },
      "text/plain": [
       "  0%|          | 0/1000 [00:00<?, ?it/s]"
      ]
     },
     "metadata": {},
     "output_type": "display_data"
    },
    {
     "data": {
      "application/vnd.jupyter.widget-view+json": {
       "model_id": "0538d7f48e3b408ba604fb1cdf9773a5",
       "version_major": 2,
       "version_minor": 0
      },
      "text/plain": [
       "  0%|          | 0/1000 [00:00<?, ?it/s]"
      ]
     },
     "metadata": {},
     "output_type": "display_data"
    },
    {
     "data": {
      "application/vnd.jupyter.widget-view+json": {
       "model_id": "5c30f00afc7144e3ad57d07f071e6178",
       "version_major": 2,
       "version_minor": 0
      },
      "text/plain": [
       "  0%|          | 0/1000 [00:00<?, ?it/s]"
      ]
     },
     "metadata": {},
     "output_type": "display_data"
    },
    {
     "data": {
      "application/vnd.jupyter.widget-view+json": {
       "model_id": "c902319695e140e290987332300c6d5d",
       "version_major": 2,
       "version_minor": 0
      },
      "text/plain": [
       "  0%|          | 0/1000 [00:00<?, ?it/s]"
      ]
     },
     "metadata": {},
     "output_type": "display_data"
    }
   ],
   "source": [
    "env.seed(1012390)\n",
    "env.reset()\n",
    "torch.manual_seed(1012903)\n",
    "np.random.seed(1019023)\n",
    "random.seed(1013902)\n",
    "\n",
    "LAMBDAS = [2,4,8,16]\n",
    "SCORES = []\n",
    "for lamb in LAMBDAS:\n",
    "\n",
    "    params = {\n",
    "        'state_size': 4,\n",
    "        'action_size': 2,\n",
    "        'lr': 1e-3,\n",
    "        'gamma': 0.97,\n",
    "        'target_up': 5,\n",
    "    }\n",
    "\n",
    "    agent = DQNAgent(params)\n",
    "\n",
    "    epochs = 1000\n",
    "\n",
    "    SCORE = train(agent, epochs, lamb)\n",
    "\n",
    "    SCORES.append(SCORE)"
   ]
  },
  {
   "cell_type": "code",
   "execution_count": 31,
   "id": "8451f0fc",
   "metadata": {},
   "outputs": [
    {
     "data": {
      "image/png": "[encoded data removed]",
      "text/plain": [
       "<Figure size 720x288 with 1 Axes>"
      ]
     },
     "metadata": {
      "needs_background": "light"
     },
     "output_type": "display_data"
    }
   ],
   "source": [
    "plt.figure(figsize=(10,4))\n",
    "plt.xlabel(\"epochs\",fontsize=15)\n",
    "plt.ylabel(\"score\",fontsize=15)\n",
    "\n",
    "\n",
    "for i,s in enumerate(SCORES):\n",
    "    plt.plot(moving_average(s,10), label = '$\\lambda$ = '+str(LAMBDAS[i]))\n",
    "\n",
    "plt.legend(fontsize=15)\n",
    "\n",
    "plt.savefig(\"img/cart_conv_lambdas.png\",dpi = 300)"
   ]
  },
  {
   "cell_type": "markdown",
   "id": "2656d74f",
   "metadata": {},
   "source": [
    "### Random search"
   ]
  },
  {
   "cell_type": "code",
   "execution_count": 45,
   "id": "534edf3f",
   "metadata": {},
   "outputs": [
    {
     "name": "stdout",
     "output_type": "stream",
     "text": [
      "{'state_size': 4, 'action_size': 2, 'lr': 0.01, 'gamma': 0.9, 'target_up': 2}\n"
     ]
    },
    {
     "data": {
      "application/vnd.jupyter.widget-view+json": {
       "model_id": "bfe275ac9c464e3289b65e4954cfcf9f",
       "version_major": 2,
       "version_minor": 0
      },
      "text/plain": [
       "  0%|          | 0/500 [00:00<?, ?it/s]"
      ]
     },
     "metadata": {},
     "output_type": "display_data"
    },
    {
     "name": "stdout",
     "output_type": "stream",
     "text": [
      "{'state_size': 4, 'action_size': 2, 'lr': 0.001, 'gamma': 0.9, 'target_up': 10}\n"
     ]
    },
    {
     "data": {
      "application/vnd.jupyter.widget-view+json": {
       "model_id": "13fade0b3a7c44bd859f07c0ad2a112f",
       "version_major": 2,
       "version_minor": 0
      },
      "text/plain": [
       "  0%|          | 0/500 [00:00<?, ?it/s]"
      ]
     },
     "metadata": {},
     "output_type": "display_data"
    },
    {
     "name": "stdout",
     "output_type": "stream",
     "text": [
      "{'state_size': 4, 'action_size': 2, 'lr': 0.01, 'gamma': 0.95, 'target_up': 2}\n"
     ]
    },
    {
     "data": {
      "application/vnd.jupyter.widget-view+json": {
       "model_id": "eb2cb81b698a487e99c2007c110bd2d6",
       "version_major": 2,
       "version_minor": 0
      },
      "text/plain": [
       "  0%|          | 0/500 [00:00<?, ?it/s]"
      ]
     },
     "metadata": {},
     "output_type": "display_data"
    },
    {
     "name": "stdout",
     "output_type": "stream",
     "text": [
      "{'state_size': 4, 'action_size': 2, 'lr': 0.01, 'gamma': 0.99, 'target_up': 5}\n"
     ]
    },
    {
     "data": {
      "application/vnd.jupyter.widget-view+json": {
       "model_id": "c9e1dade1b69483784253c78b78ca1dd",
       "version_major": 2,
       "version_minor": 0
      },
      "text/plain": [
       "  0%|          | 0/500 [00:00<?, ?it/s]"
      ]
     },
     "metadata": {},
     "output_type": "display_data"
    },
    {
     "name": "stdout",
     "output_type": "stream",
     "text": [
      "{'state_size': 4, 'action_size': 2, 'lr': 0.001, 'gamma': 0.9, 'target_up': 10}\n"
     ]
    },
    {
     "data": {
      "application/vnd.jupyter.widget-view+json": {
       "model_id": "6b1c863af6ce4ec486a2a62d96942c9b",
       "version_major": 2,
       "version_minor": 0
      },
      "text/plain": [
       "  0%|          | 0/500 [00:00<?, ?it/s]"
      ]
     },
     "metadata": {},
     "output_type": "display_data"
    },
    {
     "name": "stdout",
     "output_type": "stream",
     "text": [
      "{'state_size': 4, 'action_size': 2, 'lr': 0.01, 'gamma': 0.95, 'target_up': 2}\n"
     ]
    },
    {
     "data": {
      "application/vnd.jupyter.widget-view+json": {
       "model_id": "4f88e074416a4f4c870ea1480bf70f59",
       "version_major": 2,
       "version_minor": 0
      },
      "text/plain": [
       "  0%|          | 0/500 [00:00<?, ?it/s]"
      ]
     },
     "metadata": {},
     "output_type": "display_data"
    },
    {
     "name": "stdout",
     "output_type": "stream",
     "text": [
      "{'state_size': 4, 'action_size': 2, 'lr': 0.01, 'gamma': 0.9, 'target_up': 2}\n"
     ]
    },
    {
     "data": {
      "application/vnd.jupyter.widget-view+json": {
       "model_id": "b9db143a8bdd432e9fcc2078a46674df",
       "version_major": 2,
       "version_minor": 0
      },
      "text/plain": [
       "  0%|          | 0/500 [00:00<?, ?it/s]"
      ]
     },
     "metadata": {},
     "output_type": "display_data"
    },
    {
     "name": "stdout",
     "output_type": "stream",
     "text": [
      "{'state_size': 4, 'action_size': 2, 'lr': 0.01, 'gamma': 0.9, 'target_up': 2}\n"
     ]
    },
    {
     "data": {
      "application/vnd.jupyter.widget-view+json": {
       "model_id": "5e1229f6642a4b81ba6909833e0f548f",
       "version_major": 2,
       "version_minor": 0
      },
      "text/plain": [
       "  0%|          | 0/500 [00:00<?, ?it/s]"
      ]
     },
     "metadata": {},
     "output_type": "display_data"
    },
    {
     "name": "stdout",
     "output_type": "stream",
     "text": [
      "{'state_size': 4, 'action_size': 2, 'lr': 0.01, 'gamma': 0.9, 'target_up': 2}\n"
     ]
    },
    {
     "data": {
      "application/vnd.jupyter.widget-view+json": {
       "model_id": "649c2102aa4047628303a7df78c191bc",
       "version_major": 2,
       "version_minor": 0
      },
      "text/plain": [
       "  0%|          | 0/500 [00:00<?, ?it/s]"
      ]
     },
     "metadata": {},
     "output_type": "display_data"
    },
    {
     "name": "stdout",
     "output_type": "stream",
     "text": [
      "{'state_size': 4, 'action_size': 2, 'lr': 0.001, 'gamma': 0.95, 'target_up': 5}\n"
     ]
    },
    {
     "data": {
      "application/vnd.jupyter.widget-view+json": {
       "model_id": "c1433ce343fe4a85aea7d4c9b7c2e892",
       "version_major": 2,
       "version_minor": 0
      },
      "text/plain": [
       "  0%|          | 0/500 [00:00<?, ?it/s]"
      ]
     },
     "metadata": {},
     "output_type": "display_data"
    },
    {
     "name": "stdout",
     "output_type": "stream",
     "text": [
      "{'state_size': 4, 'action_size': 2, 'lr': 0.0001, 'gamma': 0.95, 'target_up': 5}\n"
     ]
    },
    {
     "data": {
      "application/vnd.jupyter.widget-view+json": {
       "model_id": "53ab9079254b4e3a95264dbcbaf8abb1",
       "version_major": 2,
       "version_minor": 0
      },
      "text/plain": [
       "  0%|          | 0/500 [00:00<?, ?it/s]"
      ]
     },
     "metadata": {},
     "output_type": "display_data"
    },
    {
     "name": "stdout",
     "output_type": "stream",
     "text": [
      "{'state_size': 4, 'action_size': 2, 'lr': 0.0001, 'gamma': 0.99, 'target_up': 5}\n"
     ]
    },
    {
     "data": {
      "application/vnd.jupyter.widget-view+json": {
       "model_id": "4394ed58994542688bf23240e8f5a8de",
       "version_major": 2,
       "version_minor": 0
      },
      "text/plain": [
       "  0%|          | 0/500 [00:00<?, ?it/s]"
      ]
     },
     "metadata": {},
     "output_type": "display_data"
    },
    {
     "name": "stdout",
     "output_type": "stream",
     "text": [
      "{'state_size': 4, 'action_size': 2, 'lr': 0.001, 'gamma': 0.9, 'target_up': 5}\n"
     ]
    },
    {
     "data": {
      "application/vnd.jupyter.widget-view+json": {
       "model_id": "e356b58650554bbcbf25e318d41e43d4",
       "version_major": 2,
       "version_minor": 0
      },
      "text/plain": [
       "  0%|          | 0/500 [00:00<?, ?it/s]"
      ]
     },
     "metadata": {},
     "output_type": "display_data"
    },
    {
     "name": "stdout",
     "output_type": "stream",
     "text": [
      "{'state_size': 4, 'action_size': 2, 'lr': 0.001, 'gamma': 0.95, 'target_up': 5}\n"
     ]
    },
    {
     "data": {
      "application/vnd.jupyter.widget-view+json": {
       "model_id": "0561bd39439e4970ac88d5d3b167c566",
       "version_major": 2,
       "version_minor": 0
      },
      "text/plain": [
       "  0%|          | 0/500 [00:00<?, ?it/s]"
      ]
     },
     "metadata": {},
     "output_type": "display_data"
    },
    {
     "name": "stdout",
     "output_type": "stream",
     "text": [
      "{'state_size': 4, 'action_size': 2, 'lr': 0.01, 'gamma': 0.99, 'target_up': 5}\n"
     ]
    },
    {
     "data": {
      "application/vnd.jupyter.widget-view+json": {
       "model_id": "65aef6470e374343bec42c159ac0be00",
       "version_major": 2,
       "version_minor": 0
      },
      "text/plain": [
       "  0%|          | 0/500 [00:00<?, ?it/s]"
      ]
     },
     "metadata": {},
     "output_type": "display_data"
    },
    {
     "name": "stdout",
     "output_type": "stream",
     "text": [
      "{'state_size': 4, 'action_size': 2, 'lr': 0.001, 'gamma': 0.95, 'target_up': 10}\n"
     ]
    },
    {
     "data": {
      "application/vnd.jupyter.widget-view+json": {
       "model_id": "2e9a61abaff743cea2f41cd4ee8b6fcd",
       "version_major": 2,
       "version_minor": 0
      },
      "text/plain": [
       "  0%|          | 0/500 [00:00<?, ?it/s]"
      ]
     },
     "metadata": {},
     "output_type": "display_data"
    },
    {
     "name": "stdout",
     "output_type": "stream",
     "text": [
      "{'state_size': 4, 'action_size': 2, 'lr': 0.0001, 'gamma': 0.95, 'target_up': 2}\n"
     ]
    },
    {
     "data": {
      "application/vnd.jupyter.widget-view+json": {
       "model_id": "d1a34e9ffbb746f5bc81fbcf91d31b10",
       "version_major": 2,
       "version_minor": 0
      },
      "text/plain": [
       "  0%|          | 0/500 [00:00<?, ?it/s]"
      ]
     },
     "metadata": {},
     "output_type": "display_data"
    },
    {
     "name": "stdout",
     "output_type": "stream",
     "text": [
      "{'state_size': 4, 'action_size': 2, 'lr': 0.01, 'gamma': 0.95, 'target_up': 10}\n"
     ]
    },
    {
     "data": {
      "application/vnd.jupyter.widget-view+json": {
       "model_id": "c341fd1f96b34a35ba333eccb5c2a211",
       "version_major": 2,
       "version_minor": 0
      },
      "text/plain": [
       "  0%|          | 0/500 [00:00<?, ?it/s]"
      ]
     },
     "metadata": {},
     "output_type": "display_data"
    },
    {
     "name": "stdout",
     "output_type": "stream",
     "text": [
      "{'state_size': 4, 'action_size': 2, 'lr': 0.01, 'gamma': 0.99, 'target_up': 2}\n"
     ]
    },
    {
     "data": {
      "application/vnd.jupyter.widget-view+json": {
       "model_id": "b64d63cd3db549948b54a1c4c2b6424d",
       "version_major": 2,
       "version_minor": 0
      },
      "text/plain": [
       "  0%|          | 0/500 [00:00<?, ?it/s]"
      ]
     },
     "metadata": {},
     "output_type": "display_data"
    },
    {
     "name": "stdout",
     "output_type": "stream",
     "text": [
      "{'state_size': 4, 'action_size': 2, 'lr': 0.0001, 'gamma': 0.95, 'target_up': 10}\n"
     ]
    },
    {
     "data": {
      "application/vnd.jupyter.widget-view+json": {
       "model_id": "af03007f065f40d0b9ad02eb0ed98b29",
       "version_major": 2,
       "version_minor": 0
      },
      "text/plain": [
       "  0%|          | 0/500 [00:00<?, ?it/s]"
      ]
     },
     "metadata": {},
     "output_type": "display_data"
    },
    {
     "name": "stdout",
     "output_type": "stream",
     "text": [
      "{'state_size': 4, 'action_size': 2, 'lr': 0.01, 'gamma': 0.95, 'target_up': 2}\n"
     ]
    },
    {
     "data": {
      "application/vnd.jupyter.widget-view+json": {
       "model_id": "2b28c2a08b3947fca51c1e5a9d50c2d9",
       "version_major": 2,
       "version_minor": 0
      },
      "text/plain": [
       "  0%|          | 0/500 [00:00<?, ?it/s]"
      ]
     },
     "metadata": {},
     "output_type": "display_data"
    },
    {
     "name": "stdout",
     "output_type": "stream",
     "text": [
      "{'state_size': 4, 'action_size': 2, 'lr': 0.0001, 'gamma': 0.9, 'target_up': 2}\n"
     ]
    },
    {
     "data": {
      "application/vnd.jupyter.widget-view+json": {
       "model_id": "f2fe6a7223434d498eb56c1451ff14dc",
       "version_major": 2,
       "version_minor": 0
      },
      "text/plain": [
       "  0%|          | 0/500 [00:00<?, ?it/s]"
      ]
     },
     "metadata": {},
     "output_type": "display_data"
    },
    {
     "name": "stdout",
     "output_type": "stream",
     "text": [
      "{'state_size': 4, 'action_size': 2, 'lr': 0.01, 'gamma': 0.9, 'target_up': 10}\n"
     ]
    },
    {
     "data": {
      "application/vnd.jupyter.widget-view+json": {
       "model_id": "b465c737ab114d55a2f8debafef538eb",
       "version_major": 2,
       "version_minor": 0
      },
      "text/plain": [
       "  0%|          | 0/500 [00:00<?, ?it/s]"
      ]
     },
     "metadata": {},
     "output_type": "display_data"
    },
    {
     "name": "stdout",
     "output_type": "stream",
     "text": [
      "{'state_size': 4, 'action_size': 2, 'lr': 0.001, 'gamma': 0.95, 'target_up': 10}\n"
     ]
    },
    {
     "data": {
      "application/vnd.jupyter.widget-view+json": {
       "model_id": "52a2faeb26d24769a9030e7e07ef20ef",
       "version_major": 2,
       "version_minor": 0
      },
      "text/plain": [
       "  0%|          | 0/500 [00:00<?, ?it/s]"
      ]
     },
     "metadata": {},
     "output_type": "display_data"
    },
    {
     "name": "stdout",
     "output_type": "stream",
     "text": [
      "{'state_size': 4, 'action_size': 2, 'lr': 0.001, 'gamma': 0.9, 'target_up': 2}\n"
     ]
    },
    {
     "data": {
      "application/vnd.jupyter.widget-view+json": {
       "model_id": "c2a7a92331e84e20917a200e183c66bc",
       "version_major": 2,
       "version_minor": 0
      },
      "text/plain": [
       "  0%|          | 0/500 [00:00<?, ?it/s]"
      ]
     },
     "metadata": {},
     "output_type": "display_data"
    },
    {
     "name": "stdout",
     "output_type": "stream",
     "text": [
      "{'state_size': 4, 'action_size': 2, 'lr': 0.01, 'gamma': 0.99, 'target_up': 10}\n"
     ]
    },
    {
     "data": {
      "application/vnd.jupyter.widget-view+json": {
       "model_id": "87114b798a1a4878b27caef9bc95d590",
       "version_major": 2,
       "version_minor": 0
      },
      "text/plain": [
       "  0%|          | 0/500 [00:00<?, ?it/s]"
      ]
     },
     "metadata": {},
     "output_type": "display_data"
    },
    {
     "name": "stdout",
     "output_type": "stream",
     "text": [
      "{'state_size': 4, 'action_size': 2, 'lr': 0.001, 'gamma': 0.95, 'target_up': 2}\n"
     ]
    },
    {
     "data": {
      "application/vnd.jupyter.widget-view+json": {
       "model_id": "31f15fd01f4b4e2d8cf73b57a77a397b",
       "version_major": 2,
       "version_minor": 0
      },
      "text/plain": [
       "  0%|          | 0/500 [00:00<?, ?it/s]"
      ]
     },
     "metadata": {},
     "output_type": "display_data"
    },
    {
     "name": "stdout",
     "output_type": "stream",
     "text": [
      "{'state_size': 4, 'action_size': 2, 'lr': 0.0001, 'gamma': 0.9, 'target_up': 2}\n"
     ]
    },
    {
     "data": {
      "application/vnd.jupyter.widget-view+json": {
       "model_id": "6f5353ee9ef04e3aa45649198918eaa1",
       "version_major": 2,
       "version_minor": 0
      },
      "text/plain": [
       "  0%|          | 0/500 [00:00<?, ?it/s]"
      ]
     },
     "metadata": {},
     "output_type": "display_data"
    },
    {
     "name": "stdout",
     "output_type": "stream",
     "text": [
      "{'state_size': 4, 'action_size': 2, 'lr': 0.0001, 'gamma': 0.99, 'target_up': 5}\n"
     ]
    },
    {
     "data": {
      "application/vnd.jupyter.widget-view+json": {
       "model_id": "8917584e27a34b72b9996208e247b260",
       "version_major": 2,
       "version_minor": 0
      },
      "text/plain": [
       "  0%|          | 0/500 [00:00<?, ?it/s]"
      ]
     },
     "metadata": {},
     "output_type": "display_data"
    },
    {
     "name": "stdout",
     "output_type": "stream",
     "text": [
      "{'state_size': 4, 'action_size': 2, 'lr': 0.01, 'gamma': 0.9, 'target_up': 2}\n"
     ]
    },
    {
     "data": {
      "application/vnd.jupyter.widget-view+json": {
       "model_id": "3792b02cba114695a751cdf4b01c04df",
       "version_major": 2,
       "version_minor": 0
      },
      "text/plain": [
       "  0%|          | 0/500 [00:00<?, ?it/s]"
      ]
     },
     "metadata": {},
     "output_type": "display_data"
    }
   ],
   "source": [
    "env.seed(1012390)\n",
    "env.reset()\n",
    "torch.manual_seed(1012903)\n",
    "np.random.seed(1019023)\n",
    "random.seed(1013902)\n",
    "\n",
    "P = []\n",
    "for j in range(30):\n",
    "\n",
    "    params = {\n",
    "        'state_size': 4,\n",
    "        'action_size': 2,\n",
    "        'lr': np.random.choice([1e-2,1e-3, 1e-4]),\n",
    "        'gamma': np.random.choice([0.9,0.95, 0.99]),\n",
    "        'target_up': np.random.choice([2,5,10]),\n",
    "    }\n",
    "\n",
    "    agent = DQNAgent(params)\n",
    "\n",
    "    epochs = 500\n",
    "\n",
    "    lamb = 4\n",
    "    \n",
    "    print(params)\n",
    "    SCORE = train(agent, epochs, lamb)\n",
    "\n",
    "    params['score'] = SCORE[-1]    \n",
    "    params['steps'] = len(SCORE)\n",
    "    \n",
    "    P.append(params)"
   ]
  },
  {
   "cell_type": "code",
   "execution_count": 55,
   "id": "2de4ff96",
   "metadata": {},
   "outputs": [
    {
     "data": {
      "text/html": [
       "<div>\n",
       "<style scoped>\n",
       "    .dataframe tbody tr th:only-of-type {\n",
       "        vertical-align: middle;\n",
       "    }\n",
       "\n",
       "    .dataframe tbody tr th {\n",
       "        vertical-align: top;\n",
       "    }\n",
       "\n",
       "    .dataframe thead th {\n",
       "        text-align: right;\n",
       "    }\n",
       "</style>\n",
       "<table border=\"1\" class=\"dataframe\">\n",
       "  <thead>\n",
       "    <tr style=\"text-align: right;\">\n",
       "      <th></th>\n",
       "      <th>state_size</th>\n",
       "      <th>action_size</th>\n",
       "      <th>lr</th>\n",
       "      <th>gamma</th>\n",
       "      <th>target_up</th>\n",
       "      <th>score</th>\n",
       "      <th>steps</th>\n",
       "      <th>efficiency</th>\n",
       "    </tr>\n",
       "  </thead>\n",
       "  <tbody>\n",
       "    <tr>\n",
       "      <th>0</th>\n",
       "      <td>4</td>\n",
       "      <td>2</td>\n",
       "      <td>0.0100</td>\n",
       "      <td>0.99</td>\n",
       "      <td>2</td>\n",
       "      <td>500</td>\n",
       "      <td>147</td>\n",
       "      <td>3.401361</td>\n",
       "    </tr>\n",
       "    <tr>\n",
       "      <th>1</th>\n",
       "      <td>4</td>\n",
       "      <td>2</td>\n",
       "      <td>0.0100</td>\n",
       "      <td>0.95</td>\n",
       "      <td>2</td>\n",
       "      <td>500</td>\n",
       "      <td>169</td>\n",
       "      <td>2.958580</td>\n",
       "    </tr>\n",
       "    <tr>\n",
       "      <th>2</th>\n",
       "      <td>4</td>\n",
       "      <td>2</td>\n",
       "      <td>0.0010</td>\n",
       "      <td>0.95</td>\n",
       "      <td>2</td>\n",
       "      <td>500</td>\n",
       "      <td>185</td>\n",
       "      <td>2.702703</td>\n",
       "    </tr>\n",
       "    <tr>\n",
       "      <th>3</th>\n",
       "      <td>4</td>\n",
       "      <td>2</td>\n",
       "      <td>0.0100</td>\n",
       "      <td>0.99</td>\n",
       "      <td>5</td>\n",
       "      <td>500</td>\n",
       "      <td>221</td>\n",
       "      <td>2.262443</td>\n",
       "    </tr>\n",
       "    <tr>\n",
       "      <th>4</th>\n",
       "      <td>4</td>\n",
       "      <td>2</td>\n",
       "      <td>0.0100</td>\n",
       "      <td>0.95</td>\n",
       "      <td>2</td>\n",
       "      <td>500</td>\n",
       "      <td>227</td>\n",
       "      <td>2.202643</td>\n",
       "    </tr>\n",
       "    <tr>\n",
       "      <th>5</th>\n",
       "      <td>4</td>\n",
       "      <td>2</td>\n",
       "      <td>0.0100</td>\n",
       "      <td>0.99</td>\n",
       "      <td>5</td>\n",
       "      <td>500</td>\n",
       "      <td>231</td>\n",
       "      <td>2.164502</td>\n",
       "    </tr>\n",
       "    <tr>\n",
       "      <th>6</th>\n",
       "      <td>4</td>\n",
       "      <td>2</td>\n",
       "      <td>0.0100</td>\n",
       "      <td>0.95</td>\n",
       "      <td>2</td>\n",
       "      <td>500</td>\n",
       "      <td>242</td>\n",
       "      <td>2.066116</td>\n",
       "    </tr>\n",
       "    <tr>\n",
       "      <th>7</th>\n",
       "      <td>4</td>\n",
       "      <td>2</td>\n",
       "      <td>0.0010</td>\n",
       "      <td>0.95</td>\n",
       "      <td>5</td>\n",
       "      <td>500</td>\n",
       "      <td>335</td>\n",
       "      <td>1.492537</td>\n",
       "    </tr>\n",
       "    <tr>\n",
       "      <th>8</th>\n",
       "      <td>4</td>\n",
       "      <td>2</td>\n",
       "      <td>0.0010</td>\n",
       "      <td>0.95</td>\n",
       "      <td>5</td>\n",
       "      <td>500</td>\n",
       "      <td>338</td>\n",
       "      <td>1.479290</td>\n",
       "    </tr>\n",
       "    <tr>\n",
       "      <th>9</th>\n",
       "      <td>4</td>\n",
       "      <td>2</td>\n",
       "      <td>0.0100</td>\n",
       "      <td>0.99</td>\n",
       "      <td>10</td>\n",
       "      <td>500</td>\n",
       "      <td>431</td>\n",
       "      <td>1.160093</td>\n",
       "    </tr>\n",
       "    <tr>\n",
       "      <th>10</th>\n",
       "      <td>4</td>\n",
       "      <td>2</td>\n",
       "      <td>0.0001</td>\n",
       "      <td>0.90</td>\n",
       "      <td>2</td>\n",
       "      <td>131</td>\n",
       "      <td>500</td>\n",
       "      <td>0.262000</td>\n",
       "    </tr>\n",
       "    <tr>\n",
       "      <th>11</th>\n",
       "      <td>4</td>\n",
       "      <td>2</td>\n",
       "      <td>0.0001</td>\n",
       "      <td>0.90</td>\n",
       "      <td>2</td>\n",
       "      <td>126</td>\n",
       "      <td>500</td>\n",
       "      <td>0.252000</td>\n",
       "    </tr>\n",
       "    <tr>\n",
       "      <th>12</th>\n",
       "      <td>4</td>\n",
       "      <td>2</td>\n",
       "      <td>0.0001</td>\n",
       "      <td>0.95</td>\n",
       "      <td>10</td>\n",
       "      <td>125</td>\n",
       "      <td>500</td>\n",
       "      <td>0.250000</td>\n",
       "    </tr>\n",
       "    <tr>\n",
       "      <th>13</th>\n",
       "      <td>4</td>\n",
       "      <td>2</td>\n",
       "      <td>0.0100</td>\n",
       "      <td>0.90</td>\n",
       "      <td>2</td>\n",
       "      <td>115</td>\n",
       "      <td>500</td>\n",
       "      <td>0.230000</td>\n",
       "    </tr>\n",
       "    <tr>\n",
       "      <th>14</th>\n",
       "      <td>4</td>\n",
       "      <td>2</td>\n",
       "      <td>0.0100</td>\n",
       "      <td>0.90</td>\n",
       "      <td>2</td>\n",
       "      <td>107</td>\n",
       "      <td>500</td>\n",
       "      <td>0.214000</td>\n",
       "    </tr>\n",
       "    <tr>\n",
       "      <th>15</th>\n",
       "      <td>4</td>\n",
       "      <td>2</td>\n",
       "      <td>0.0100</td>\n",
       "      <td>0.90</td>\n",
       "      <td>10</td>\n",
       "      <td>105</td>\n",
       "      <td>500</td>\n",
       "      <td>0.210000</td>\n",
       "    </tr>\n",
       "    <tr>\n",
       "      <th>16</th>\n",
       "      <td>4</td>\n",
       "      <td>2</td>\n",
       "      <td>0.0010</td>\n",
       "      <td>0.95</td>\n",
       "      <td>10</td>\n",
       "      <td>99</td>\n",
       "      <td>500</td>\n",
       "      <td>0.198000</td>\n",
       "    </tr>\n",
       "    <tr>\n",
       "      <th>17</th>\n",
       "      <td>4</td>\n",
       "      <td>2</td>\n",
       "      <td>0.0010</td>\n",
       "      <td>0.95</td>\n",
       "      <td>10</td>\n",
       "      <td>93</td>\n",
       "      <td>500</td>\n",
       "      <td>0.186000</td>\n",
       "    </tr>\n",
       "    <tr>\n",
       "      <th>18</th>\n",
       "      <td>4</td>\n",
       "      <td>2</td>\n",
       "      <td>0.0100</td>\n",
       "      <td>0.90</td>\n",
       "      <td>2</td>\n",
       "      <td>86</td>\n",
       "      <td>500</td>\n",
       "      <td>0.172000</td>\n",
       "    </tr>\n",
       "    <tr>\n",
       "      <th>19</th>\n",
       "      <td>4</td>\n",
       "      <td>2</td>\n",
       "      <td>0.0010</td>\n",
       "      <td>0.90</td>\n",
       "      <td>2</td>\n",
       "      <td>80</td>\n",
       "      <td>500</td>\n",
       "      <td>0.160000</td>\n",
       "    </tr>\n",
       "    <tr>\n",
       "      <th>20</th>\n",
       "      <td>4</td>\n",
       "      <td>2</td>\n",
       "      <td>0.0100</td>\n",
       "      <td>0.95</td>\n",
       "      <td>10</td>\n",
       "      <td>79</td>\n",
       "      <td>500</td>\n",
       "      <td>0.158000</td>\n",
       "    </tr>\n",
       "    <tr>\n",
       "      <th>21</th>\n",
       "      <td>4</td>\n",
       "      <td>2</td>\n",
       "      <td>0.0010</td>\n",
       "      <td>0.90</td>\n",
       "      <td>5</td>\n",
       "      <td>75</td>\n",
       "      <td>500</td>\n",
       "      <td>0.150000</td>\n",
       "    </tr>\n",
       "    <tr>\n",
       "      <th>22</th>\n",
       "      <td>4</td>\n",
       "      <td>2</td>\n",
       "      <td>0.0100</td>\n",
       "      <td>0.90</td>\n",
       "      <td>2</td>\n",
       "      <td>73</td>\n",
       "      <td>500</td>\n",
       "      <td>0.146000</td>\n",
       "    </tr>\n",
       "    <tr>\n",
       "      <th>23</th>\n",
       "      <td>4</td>\n",
       "      <td>2</td>\n",
       "      <td>0.0100</td>\n",
       "      <td>0.90</td>\n",
       "      <td>2</td>\n",
       "      <td>64</td>\n",
       "      <td>500</td>\n",
       "      <td>0.128000</td>\n",
       "    </tr>\n",
       "    <tr>\n",
       "      <th>24</th>\n",
       "      <td>4</td>\n",
       "      <td>2</td>\n",
       "      <td>0.0010</td>\n",
       "      <td>0.90</td>\n",
       "      <td>10</td>\n",
       "      <td>46</td>\n",
       "      <td>500</td>\n",
       "      <td>0.092000</td>\n",
       "    </tr>\n",
       "    <tr>\n",
       "      <th>25</th>\n",
       "      <td>4</td>\n",
       "      <td>2</td>\n",
       "      <td>0.0010</td>\n",
       "      <td>0.90</td>\n",
       "      <td>10</td>\n",
       "      <td>46</td>\n",
       "      <td>500</td>\n",
       "      <td>0.092000</td>\n",
       "    </tr>\n",
       "    <tr>\n",
       "      <th>26</th>\n",
       "      <td>4</td>\n",
       "      <td>2</td>\n",
       "      <td>0.0001</td>\n",
       "      <td>0.99</td>\n",
       "      <td>5</td>\n",
       "      <td>10</td>\n",
       "      <td>500</td>\n",
       "      <td>0.020000</td>\n",
       "    </tr>\n",
       "    <tr>\n",
       "      <th>27</th>\n",
       "      <td>4</td>\n",
       "      <td>2</td>\n",
       "      <td>0.0001</td>\n",
       "      <td>0.95</td>\n",
       "      <td>5</td>\n",
       "      <td>10</td>\n",
       "      <td>500</td>\n",
       "      <td>0.020000</td>\n",
       "    </tr>\n",
       "    <tr>\n",
       "      <th>28</th>\n",
       "      <td>4</td>\n",
       "      <td>2</td>\n",
       "      <td>0.0001</td>\n",
       "      <td>0.95</td>\n",
       "      <td>2</td>\n",
       "      <td>9</td>\n",
       "      <td>500</td>\n",
       "      <td>0.018000</td>\n",
       "    </tr>\n",
       "    <tr>\n",
       "      <th>29</th>\n",
       "      <td>4</td>\n",
       "      <td>2</td>\n",
       "      <td>0.0001</td>\n",
       "      <td>0.99</td>\n",
       "      <td>5</td>\n",
       "      <td>9</td>\n",
       "      <td>500</td>\n",
       "      <td>0.018000</td>\n",
       "    </tr>\n",
       "  </tbody>\n",
       "</table>\n",
       "</div>"
      ],
      "text/plain": [
       "    state_size  action_size      lr  gamma  target_up  score  steps  \\\n",
       "0            4            2  0.0100   0.99          2    500    147   \n",
       "1            4            2  0.0100   0.95          2    500    169   \n",
       "2            4            2  0.0010   0.95          2    500    185   \n",
       "3            4            2  0.0100   0.99          5    500    221   \n",
       "4            4            2  0.0100   0.95          2    500    227   \n",
       "5            4            2  0.0100   0.99          5    500    231   \n",
       "6            4            2  0.0100   0.95          2    500    242   \n",
       "7            4            2  0.0010   0.95          5    500    335   \n",
       "8            4            2  0.0010   0.95          5    500    338   \n",
       "9            4            2  0.0100   0.99         10    500    431   \n",
       "10           4            2  0.0001   0.90          2    131    500   \n",
       "11           4            2  0.0001   0.90          2    126    500   \n",
       "12           4            2  0.0001   0.95         10    125    500   \n",
       "13           4            2  0.0100   0.90          2    115    500   \n",
       "14           4            2  0.0100   0.90          2    107    500   \n",
       "15           4            2  0.0100   0.90         10    105    500   \n",
       "16           4            2  0.0010   0.95         10     99    500   \n",
       "17           4            2  0.0010   0.95         10     93    500   \n",
       "18           4            2  0.0100   0.90          2     86    500   \n",
       "19           4            2  0.0010   0.90          2     80    500   \n",
       "20           4            2  0.0100   0.95         10     79    500   \n",
       "21           4            2  0.0010   0.90          5     75    500   \n",
       "22           4            2  0.0100   0.90          2     73    500   \n",
       "23           4            2  0.0100   0.90          2     64    500   \n",
       "24           4            2  0.0010   0.90         10     46    500   \n",
       "25           4            2  0.0010   0.90         10     46    500   \n",
       "26           4            2  0.0001   0.99          5     10    500   \n",
       "27           4            2  0.0001   0.95          5     10    500   \n",
       "28           4            2  0.0001   0.95          2      9    500   \n",
       "29           4            2  0.0001   0.99          5      9    500   \n",
       "\n",
       "    efficiency  \n",
       "0     3.401361  \n",
       "1     2.958580  \n",
       "2     2.702703  \n",
       "3     2.262443  \n",
       "4     2.202643  \n",
       "5     2.164502  \n",
       "6     2.066116  \n",
       "7     1.492537  \n",
       "8     1.479290  \n",
       "9     1.160093  \n",
       "10    0.262000  \n",
       "11    0.252000  \n",
       "12    0.250000  \n",
       "13    0.230000  \n",
       "14    0.214000  \n",
       "15    0.210000  \n",
       "16    0.198000  \n",
       "17    0.186000  \n",
       "18    0.172000  \n",
       "19    0.160000  \n",
       "20    0.158000  \n",
       "21    0.150000  \n",
       "22    0.146000  \n",
       "23    0.128000  \n",
       "24    0.092000  \n",
       "25    0.092000  \n",
       "26    0.020000  \n",
       "27    0.020000  \n",
       "28    0.018000  \n",
       "29    0.018000  "
      ]
     },
     "execution_count": 55,
     "metadata": {},
     "output_type": "execute_result"
    }
   ],
   "source": [
    "import pandas as pd\n",
    "\n",
    "keys = P[0].keys()\n",
    "df = {}\n",
    "for k in keys:\n",
    "    df[k] = []\n",
    "    for p in P:\n",
    "        df[k].append(p[k])\n",
    "\n",
    "df = pd.DataFrame.from_dict(df)#.sort_values(by = 'steps').sort_values(by = ['score', 'steps'], ascending = [False, True]).reset_index(drop=True)\n",
    "#df[[\"lr\", \"gamma\", \"target_up\", \"score\", \"steps\"]]\n",
    "\n",
    "df[\"efficiency\"] = df[\"score\"]/df[\"steps\"]\n",
    "df = df.sort_values(by = 'efficiency', ascending = False).reset_index(drop = True)\n",
    "\n",
    "df"
   ]
  },
  {
   "cell_type": "code",
   "execution_count": 63,
   "id": "7a5654f7",
   "metadata": {},
   "outputs": [
    {
     "data": {
      "text/html": [
       "<div>\n",
       "<style scoped>\n",
       "    .dataframe tbody tr th:only-of-type {\n",
       "        vertical-align: middle;\n",
       "    }\n",
       "\n",
       "    .dataframe tbody tr th {\n",
       "        vertical-align: top;\n",
       "    }\n",
       "\n",
       "    .dataframe thead th {\n",
       "        text-align: right;\n",
       "    }\n",
       "</style>\n",
       "<table border=\"1\" class=\"dataframe\">\n",
       "  <thead>\n",
       "    <tr style=\"text-align: right;\">\n",
       "      <th></th>\n",
       "      <th>Unnamed: 0</th>\n",
       "      <th>state_size</th>\n",
       "      <th>action_size</th>\n",
       "      <th>lr</th>\n",
       "      <th>gamma</th>\n",
       "      <th>target_up</th>\n",
       "      <th>score</th>\n",
       "      <th>steps</th>\n",
       "      <th>efficiency</th>\n",
       "    </tr>\n",
       "  </thead>\n",
       "  <tbody>\n",
       "    <tr>\n",
       "      <th>0</th>\n",
       "      <td>0</td>\n",
       "      <td>4</td>\n",
       "      <td>2</td>\n",
       "      <td>0.010</td>\n",
       "      <td>0.99</td>\n",
       "      <td>2</td>\n",
       "      <td>500</td>\n",
       "      <td>147</td>\n",
       "      <td>3.401361</td>\n",
       "    </tr>\n",
       "    <tr>\n",
       "      <th>1</th>\n",
       "      <td>1</td>\n",
       "      <td>4</td>\n",
       "      <td>2</td>\n",
       "      <td>0.010</td>\n",
       "      <td>0.95</td>\n",
       "      <td>2</td>\n",
       "      <td>500</td>\n",
       "      <td>169</td>\n",
       "      <td>2.958580</td>\n",
       "    </tr>\n",
       "    <tr>\n",
       "      <th>2</th>\n",
       "      <td>2</td>\n",
       "      <td>4</td>\n",
       "      <td>2</td>\n",
       "      <td>0.001</td>\n",
       "      <td>0.95</td>\n",
       "      <td>2</td>\n",
       "      <td>500</td>\n",
       "      <td>185</td>\n",
       "      <td>2.702703</td>\n",
       "    </tr>\n",
       "    <tr>\n",
       "      <th>3</th>\n",
       "      <td>3</td>\n",
       "      <td>4</td>\n",
       "      <td>2</td>\n",
       "      <td>0.010</td>\n",
       "      <td>0.99</td>\n",
       "      <td>5</td>\n",
       "      <td>500</td>\n",
       "      <td>221</td>\n",
       "      <td>2.262443</td>\n",
       "    </tr>\n",
       "    <tr>\n",
       "      <th>4</th>\n",
       "      <td>4</td>\n",
       "      <td>4</td>\n",
       "      <td>2</td>\n",
       "      <td>0.010</td>\n",
       "      <td>0.95</td>\n",
       "      <td>2</td>\n",
       "      <td>500</td>\n",
       "      <td>227</td>\n",
       "      <td>2.202643</td>\n",
       "    </tr>\n",
       "  </tbody>\n",
       "</table>\n",
       "</div>"
      ],
      "text/plain": [
       "   Unnamed: 0  state_size  action_size     lr  gamma  target_up  score  steps  \\\n",
       "0           0           4            2  0.010   0.99          2    500    147   \n",
       "1           1           4            2  0.010   0.95          2    500    169   \n",
       "2           2           4            2  0.001   0.95          2    500    185   \n",
       "3           3           4            2  0.010   0.99          5    500    221   \n",
       "4           4           4            2  0.010   0.95          2    500    227   \n",
       "\n",
       "   efficiency  \n",
       "0    3.401361  \n",
       "1    2.958580  \n",
       "2    2.702703  \n",
       "3    2.262443  \n",
       "4    2.202643  "
      ]
     },
     "execution_count": 63,
     "metadata": {},
     "output_type": "execute_result"
    }
   ],
   "source": [
    "df = pd.read_csv(\"hyp_cart_pole.csv\")\n",
    "df.head()"
   ]
  },
  {
   "cell_type": "code",
   "execution_count": 72,
   "id": "5c531004",
   "metadata": {},
   "outputs": [
    {
     "data": {
      "text/html": [
       "<div>\n",
       "<style scoped>\n",
       "    .dataframe tbody tr th:only-of-type {\n",
       "        vertical-align: middle;\n",
       "    }\n",
       "\n",
       "    .dataframe tbody tr th {\n",
       "        vertical-align: top;\n",
       "    }\n",
       "\n",
       "    .dataframe thead th {\n",
       "        text-align: right;\n",
       "    }\n",
       "</style>\n",
       "<table border=\"1\" class=\"dataframe\">\n",
       "  <thead>\n",
       "    <tr style=\"text-align: right;\">\n",
       "      <th></th>\n",
       "      <th>lr</th>\n",
       "      <th>gamma</th>\n",
       "      <th>target_up</th>\n",
       "      <th>steps</th>\n",
       "      <th>score</th>\n",
       "    </tr>\n",
       "  </thead>\n",
       "  <tbody>\n",
       "    <tr>\n",
       "      <th>0</th>\n",
       "      <td>0.0100</td>\n",
       "      <td>0.99</td>\n",
       "      <td>2</td>\n",
       "      <td>147</td>\n",
       "      <td>500</td>\n",
       "    </tr>\n",
       "    <tr>\n",
       "      <th>1</th>\n",
       "      <td>0.0100</td>\n",
       "      <td>0.95</td>\n",
       "      <td>2</td>\n",
       "      <td>169</td>\n",
       "      <td>500</td>\n",
       "    </tr>\n",
       "    <tr>\n",
       "      <th>2</th>\n",
       "      <td>0.0010</td>\n",
       "      <td>0.95</td>\n",
       "      <td>2</td>\n",
       "      <td>185</td>\n",
       "      <td>500</td>\n",
       "    </tr>\n",
       "    <tr>\n",
       "      <th>3</th>\n",
       "      <td>0.0100</td>\n",
       "      <td>0.99</td>\n",
       "      <td>5</td>\n",
       "      <td>221</td>\n",
       "      <td>500</td>\n",
       "    </tr>\n",
       "    <tr>\n",
       "      <th>4</th>\n",
       "      <td>0.0010</td>\n",
       "      <td>0.95</td>\n",
       "      <td>5</td>\n",
       "      <td>335</td>\n",
       "      <td>500</td>\n",
       "    </tr>\n",
       "    <tr>\n",
       "      <th>5</th>\n",
       "      <td>0.0100</td>\n",
       "      <td>0.99</td>\n",
       "      <td>10</td>\n",
       "      <td>431</td>\n",
       "      <td>500</td>\n",
       "    </tr>\n",
       "    <tr>\n",
       "      <th>6</th>\n",
       "      <td>0.0001</td>\n",
       "      <td>0.90</td>\n",
       "      <td>2</td>\n",
       "      <td>500</td>\n",
       "      <td>131</td>\n",
       "    </tr>\n",
       "    <tr>\n",
       "      <th>7</th>\n",
       "      <td>0.0001</td>\n",
       "      <td>0.95</td>\n",
       "      <td>10</td>\n",
       "      <td>500</td>\n",
       "      <td>125</td>\n",
       "    </tr>\n",
       "    <tr>\n",
       "      <th>8</th>\n",
       "      <td>0.0100</td>\n",
       "      <td>0.90</td>\n",
       "      <td>2</td>\n",
       "      <td>500</td>\n",
       "      <td>115</td>\n",
       "    </tr>\n",
       "    <tr>\n",
       "      <th>9</th>\n",
       "      <td>0.0100</td>\n",
       "      <td>0.90</td>\n",
       "      <td>10</td>\n",
       "      <td>500</td>\n",
       "      <td>105</td>\n",
       "    </tr>\n",
       "    <tr>\n",
       "      <th>10</th>\n",
       "      <td>0.0010</td>\n",
       "      <td>0.95</td>\n",
       "      <td>10</td>\n",
       "      <td>500</td>\n",
       "      <td>99</td>\n",
       "    </tr>\n",
       "    <tr>\n",
       "      <th>11</th>\n",
       "      <td>0.0010</td>\n",
       "      <td>0.90</td>\n",
       "      <td>2</td>\n",
       "      <td>500</td>\n",
       "      <td>80</td>\n",
       "    </tr>\n",
       "    <tr>\n",
       "      <th>12</th>\n",
       "      <td>0.0100</td>\n",
       "      <td>0.95</td>\n",
       "      <td>10</td>\n",
       "      <td>500</td>\n",
       "      <td>79</td>\n",
       "    </tr>\n",
       "    <tr>\n",
       "      <th>13</th>\n",
       "      <td>0.0010</td>\n",
       "      <td>0.90</td>\n",
       "      <td>5</td>\n",
       "      <td>500</td>\n",
       "      <td>75</td>\n",
       "    </tr>\n",
       "    <tr>\n",
       "      <th>14</th>\n",
       "      <td>0.0010</td>\n",
       "      <td>0.90</td>\n",
       "      <td>10</td>\n",
       "      <td>500</td>\n",
       "      <td>46</td>\n",
       "    </tr>\n",
       "    <tr>\n",
       "      <th>15</th>\n",
       "      <td>0.0001</td>\n",
       "      <td>0.95</td>\n",
       "      <td>5</td>\n",
       "      <td>500</td>\n",
       "      <td>10</td>\n",
       "    </tr>\n",
       "    <tr>\n",
       "      <th>16</th>\n",
       "      <td>0.0001</td>\n",
       "      <td>0.99</td>\n",
       "      <td>5</td>\n",
       "      <td>500</td>\n",
       "      <td>10</td>\n",
       "    </tr>\n",
       "    <tr>\n",
       "      <th>17</th>\n",
       "      <td>0.0001</td>\n",
       "      <td>0.95</td>\n",
       "      <td>2</td>\n",
       "      <td>500</td>\n",
       "      <td>9</td>\n",
       "    </tr>\n",
       "  </tbody>\n",
       "</table>\n",
       "</div>"
      ],
      "text/plain": [
       "        lr  gamma  target_up  steps  score\n",
       "0   0.0100   0.99          2    147    500\n",
       "1   0.0100   0.95          2    169    500\n",
       "2   0.0010   0.95          2    185    500\n",
       "3   0.0100   0.99          5    221    500\n",
       "4   0.0010   0.95          5    335    500\n",
       "5   0.0100   0.99         10    431    500\n",
       "6   0.0001   0.90          2    500    131\n",
       "7   0.0001   0.95         10    500    125\n",
       "8   0.0100   0.90          2    500    115\n",
       "9   0.0100   0.90         10    500    105\n",
       "10  0.0010   0.95         10    500     99\n",
       "11  0.0010   0.90          2    500     80\n",
       "12  0.0100   0.95         10    500     79\n",
       "13  0.0010   0.90          5    500     75\n",
       "14  0.0010   0.90         10    500     46\n",
       "15  0.0001   0.95          5    500     10\n",
       "16  0.0001   0.99          5    500     10\n",
       "17  0.0001   0.95          2    500      9"
      ]
     },
     "execution_count": 72,
     "metadata": {},
     "output_type": "execute_result"
    }
   ],
   "source": [
    "df = df[[\"lr\",\"gamma\",\"target_up\",\"steps\",\"score\"]].groupby([\"lr\",\"gamma\",\"target_up\"]).first().reset_index()\n",
    "df = df.sort_values(by = ['score', 'steps'], ascending = [False, True]).reset_index(drop=True)\n",
    "#df = df.groupby([\"lr\",\"gamma\",\"target_up\"]).first().reset_index()\n",
    "\n",
    "df"
   ]
  }
 ],
 "metadata": {
  "kernelspec": {
   "display_name": "Python 3 (ipykernel)",
   "language": "python",
   "name": "python3"
  },
  "language_info": {
   "codemirror_mode": {
    "name": "ipython",
    "version": 3
   },
   "file_extension": ".py",
   "mimetype": "text/x-python",
   "name": "python",
   "nbconvert_exporter": "python",
   "pygments_lexer": "ipython3",
   "version": "3.9.12"
  }
 },
 "nbformat": 4,
 "nbformat_minor": 5
}
