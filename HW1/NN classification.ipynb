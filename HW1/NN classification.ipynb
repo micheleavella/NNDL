{
 "cells": [
  {
   "cell_type": "code",
   "execution_count": 1,
   "id": "68b83dd1",
   "metadata": {},
   "outputs": [],
   "source": [
    "import pandas as pd\n",
    "import matplotlib.pyplot as plt\n",
    "import numpy as np\n",
    "import torch\n",
    "import torch.nn as nn\n",
    "import torch.optim as optim\n",
    "from torch.utils.data import Dataset, DataLoader\n",
    "from torchvision import transforms\n",
    "import torch.nn.functional as F\n",
    "import optuna\n",
    "from tqdm.notebook import tqdm\n",
    "import torchvision"
   ]
  },
  {
   "cell_type": "markdown",
   "id": "f9352767",
   "metadata": {},
   "source": [
    "# CLASSIFICATION"
   ]
  },
  {
   "cell_type": "markdown",
   "id": "c99abc2f",
   "metadata": {},
   "source": [
    "## FUNCTIONS"
   ]
  },
  {
   "cell_type": "code",
   "execution_count": 2,
   "id": "fa56f337",
   "metadata": {},
   "outputs": [],
   "source": [
    "class ClassificationDataset(Dataset):\n",
    "\n",
    "    def __init__(self, Dataset):\n",
    "        \n",
    "        self.transform = torchvision.transforms.ToTensor()\n",
    "        # Read the file and store the content in a pandas DataFrame\n",
    "        self.ds = Dataset\n",
    "\n",
    "    def __len__(self):\n",
    "        return len(self.ds)\n",
    "\n",
    "    def __getitem__(self, idx):\n",
    "        row = self.ds[idx]\n",
    "        out = (self.transform(row[0]).flatten() , row[1])\n",
    "        return out\n",
    "    \n",
    "def Kfold(i,s):\n",
    "    ind = i.copy()\n",
    "    np.random.shuffle(ind)\n",
    "    fold = np.array_split(ind,s)\n",
    "    K = []\n",
    "    k = [i for i in range(s)]\n",
    "    for i in k:\n",
    "        app = k.copy()\n",
    "        app.pop(i)\n",
    "        app2 = np.concatenate([fold[j] for j in app])\n",
    "        K.append([app2,fold[i]])\n",
    "    return K"
   ]
  },
  {
   "cell_type": "code",
   "execution_count": 3,
   "id": "d7fb6c8e",
   "metadata": {},
   "outputs": [],
   "source": [
    "class Net(nn.Module):\n",
    "    def __init__(self, params):#Ni, Nh1, Nh2, Nh3, No):\n",
    "        \n",
    "        \"\"\"\n",
    "        Ni - Input size\n",
    "        Nh1 - Neurons in the 1st hidden layer\n",
    "        Nh2 - Neurons in the 2nd hidden layer\n",
    "        Nh3 - Neurons in the 2nd hidden layer\n",
    "        No - Output size\n",
    "        \n",
    "        lr - learning rate\n",
    "        opt - optimizer\n",
    "        \"\"\"\n",
    "        super().__init__()\n",
    "        \n",
    "        #print('Network initialized')\n",
    "        self.net = nn.Sequential(\n",
    "            nn.Linear(in_features=784,out_features=params['Nh1']), \n",
    "            nn.Sigmoid(), \n",
    "            nn.Linear(in_features=params['Nh1'], out_features=params['Nh2']),\n",
    "            nn.Sigmoid(),\n",
    "            nn.Linear(in_features=params['Nh2'], out_features=params['Nh3']),\n",
    "            nn.Sigmoid(),\n",
    "            nn.Linear(in_features=params['Nh3'], out_features=10))\n",
    "        \n",
    "        \n",
    "        self.optimizer = getattr(optim, params['optimizer'])(self.net.parameters(), \n",
    "                                                        lr= params['lr'], weight_decay = params[\"weight\"])\n",
    "        self.loss_f = nn.CrossEntropyLoss()\n",
    "        \n",
    "        self.val_loss = []\n",
    "        self.train_loss = []\n",
    "        self.params = params\n",
    "\n",
    "    # Forward step defines how the LightningModule behaves during inference/prediction.\n",
    "    def forward(self, x):\n",
    "        return self.net(x)\n",
    "\n",
    "    # Training_step defines the training loop. \n",
    "    def train(self, epochs, train_dataloader,val_dataloader,reset = False):\n",
    "\n",
    "        pbar = tqdm(range(epochs),desc = 'Train loss: ',leave=False)\n",
    "        for e in pbar:\n",
    "            train_loss = []\n",
    "            for x,y in train_dataloader:\n",
    "                \n",
    "                #forward\n",
    "                out = self.forward(x)\n",
    "                \n",
    "                #loss\n",
    "                loss = self.loss_f(out,y)\n",
    "                \n",
    "                #backprop\n",
    "                self.net.zero_grad()\n",
    "                loss.backward()\n",
    "                \n",
    "                #optimizer\n",
    "                self.optimizer.step()\n",
    "                \n",
    "                train_loss.append(loss.detach())\n",
    "            \n",
    "            self.train_loss.append(np.mean(train_loss))\n",
    "            \n",
    "            val_loss = []\n",
    "            with torch.no_grad():\n",
    "                for s in val_dataloader:\n",
    "                    x = s[0]\n",
    "                    y = s[1]\n",
    "\n",
    "                    #forward\n",
    "                    out = self.forward(x)\n",
    "\n",
    "                    #loss\n",
    "                    loss = self.loss_f(out,y)\n",
    "\n",
    "                    val_loss.append(loss.detach())\n",
    "\n",
    "            self.val_loss.append(np.mean(val_loss))\n",
    "            pbar.set_description('Val loss: ' + str(self.val_loss[-1])[:4])\n",
    "    \n",
    "\n",
    "def KTrain(params, epochs, train_df, k):\n",
    "    val_loss = []\n",
    "    for fold in tqdm(Kfold(np.arange(len(train_df)),k) ,desc= \"Fold\", leave = False):\n",
    "        \n",
    "        train_data = torch.utils.data.Subset(train_df, fold[0])\n",
    "        val_data = torch.utils.data.Subset(train_df, fold[1])\n",
    "\n",
    "        batch_size = 2_000\n",
    "        train_dataloader = DataLoader(train_data, batch_size=batch_size, shuffle=True, num_workers=3)\n",
    "        val_dataloader = DataLoader(val_data, batch_size=len(val_data), shuffle=False)\n",
    "        \n",
    "        net = Net(params)\n",
    "        net.train(epochs, train_dataloader, val_dataloader)\n",
    "        \n",
    "        val_loss.append(net.val_loss[-1])\n",
    "        \n",
    "    return val_loss"
   ]
  },
  {
   "cell_type": "markdown",
   "id": "27a02d8a",
   "metadata": {},
   "source": [
    "## DATASET"
   ]
  },
  {
   "cell_type": "code",
   "execution_count": 4,
   "id": "9dc36d7d",
   "metadata": {},
   "outputs": [],
   "source": [
    "train_dataset = ClassificationDataset(torchvision.datasets.FashionMNIST('classifier_data', train=True, download=True))\n",
    "test_dataset  = ClassificationDataset(torchvision.datasets.FashionMNIST('classifier_data', train=False, download=True))"
   ]
  },
  {
   "cell_type": "code",
   "execution_count": 43,
   "id": "7dda227d",
   "metadata": {},
   "outputs": [],
   "source": [
    "batch_size = 2_000\n",
    "train_dataloader = DataLoader(train_dataset, batch_size=batch_size, shuffle=True, num_workers=3)\n",
    "test_dataloader  = DataLoader(test_dataset,  batch_size=len(test_dataset), shuffle=False, num_workers=3)"
   ]
  },
  {
   "cell_type": "code",
   "execution_count": 44,
   "id": "f4c76630",
   "metadata": {},
   "outputs": [
    {
     "data": {
      "application/vnd.jupyter.widget-view+json": {
       "model_id": "",
       "version_major": 2,
       "version_minor": 0
      },
      "text/plain": [
       "Train loss:   0%|          | 0/50 [00:00<?, ?it/s]"
      ]
     },
     "metadata": {},
     "output_type": "display_data"
    },
    {
     "name": "stdout",
     "output_type": "stream",
     "text": [
      "DONE\n",
      "Test error =  0.47979322\n"
     ]
    }
   ],
   "source": [
    "torch.manual_seed(22)  \n",
    "\n",
    "params = {\n",
    "    'Nh1' : 20,\n",
    "    'Nh2' : 20,\n",
    "    'Nh3' : 10,\n",
    "    'lr'  : 1e-2,\n",
    "    'optimizer': 'Adam',\n",
    "    'weight': 10**(-3)\n",
    "    }\n",
    "net = Net(params)\n",
    "epochs = 50\n",
    "net.train(epochs, train_dataloader, test_dataloader)\n",
    "print(\"DONE\")\n",
    "print(\"Test error = \", net.val_loss[-1])"
   ]
  },
  {
   "cell_type": "code",
   "execution_count": 47,
   "id": "319baf10",
   "metadata": {},
   "outputs": [
    {
     "data": {
      "image/png": "[encoded data removed]",
      "text/plain": [
       "<Figure size 432x288 with 1 Axes>"
      ]
     },
     "metadata": {
      "needs_background": "light"
     },
     "output_type": "display_data"
    }
   ],
   "source": [
    "plt.plot(net.train_loss, label = 'Train loss')\n",
    "plt.plot(net.val_loss, label = 'Val loss')\n",
    "plt.xlabel('step',fontsize=15)\n",
    "plt.ylabel('train loss',fontsize=15)\n",
    "plt.legend(fontsize=15)\n",
    "\n",
    "plt.savefig('NN_cl_test.png', dpi = 200)"
   ]
  },
  {
   "cell_type": "code",
   "execution_count": 46,
   "id": "25d051db",
   "metadata": {},
   "outputs": [
    {
     "name": "stdout",
     "output_type": "stream",
     "text": [
      "Accuracy of the network on the test images: 84 %\n"
     ]
    }
   ],
   "source": [
    "correct = 0\n",
    "total = 0\n",
    "\n",
    "with torch.no_grad():\n",
    "    for data in test_dataloader:\n",
    "        images, labels = data\n",
    "        # calculate outputs by running images through the network\n",
    "        outputs = net(images)\n",
    "        # the class with the highest energy is what we choose as prediction\n",
    "        _, predicted = torch.max(outputs.data, 1)\n",
    "        total += labels.size(0)\n",
    "        correct += (predicted == labels).sum().item()\n",
    "\n",
    "print(f'Accuracy of the network on the test images: {100 * correct // total} %')\n"
   ]
  },
  {
   "cell_type": "markdown",
   "id": "fae912fd",
   "metadata": {},
   "source": [
    "## HYPERPARAMETER OPTIMIZATION"
   ]
  },
  {
   "cell_type": "code",
   "execution_count": 27,
   "id": "d3590317",
   "metadata": {
    "scrolled": true
   },
   "outputs": [
    {
     "name": "stderr",
     "output_type": "stream",
     "text": [
      "\u001b[32m[I 2022-07-01 15:32:51,599]\u001b[0m A new study created in memory with name: myfirstoptimizationstudy\u001b[0m\n"
     ]
    },
    {
     "data": {
      "application/vnd.jupyter.widget-view+json": {
       "model_id": "",
       "version_major": 2,
       "version_minor": 0
      },
      "text/plain": [
       "Fold:   0%|          | 0/3 [00:00<?, ?it/s]"
      ]
     },
     "metadata": {},
     "output_type": "display_data"
    },
    {
     "data": {
      "application/vnd.jupyter.widget-view+json": {
       "model_id": "",
       "version_major": 2,
       "version_minor": 0
      },
      "text/plain": [
       "Train loss:   0%|          | 0/30 [00:00<?, ?it/s]"
      ]
     },
     "metadata": {},
     "output_type": "display_data"
    },
    {
     "data": {
      "application/vnd.jupyter.widget-view+json": {
       "model_id": "",
       "version_major": 2,
       "version_minor": 0
      },
      "text/plain": [
       "Train loss:   0%|          | 0/30 [00:00<?, ?it/s]"
      ]
     },
     "metadata": {},
     "output_type": "display_data"
    },
    {
     "data": {
      "application/vnd.jupyter.widget-view+json": {
       "model_id": "",
       "version_major": 2,
       "version_minor": 0
      },
      "text/plain": [
       "Train loss:   0%|          | 0/30 [00:00<?, ?it/s]"
      ]
     },
     "metadata": {},
     "output_type": "display_data"
    },
    {
     "name": "stderr",
     "output_type": "stream",
     "text": [
      "\u001b[32m[I 2022-07-01 15:40:16,968]\u001b[0m Trial 0 finished with value: 2.338595390319824 and parameters: {'Nh1': 46, 'Nh2': 50, 'Nh3': 16, 'lr': 0.0001321670335249159, 'weight': 0.005296209173801351, 'optimizer': 'SGD'}. Best is trial 0 with value: 2.338595390319824.\u001b[0m\n"
     ]
    },
    {
     "data": {
      "application/vnd.jupyter.widget-view+json": {
       "model_id": "",
       "version_major": 2,
       "version_minor": 0
      },
      "text/plain": [
       "Fold:   0%|          | 0/3 [00:00<?, ?it/s]"
      ]
     },
     "metadata": {},
     "output_type": "display_data"
    },
    {
     "data": {
      "application/vnd.jupyter.widget-view+json": {
       "model_id": "",
       "version_major": 2,
       "version_minor": 0
      },
      "text/plain": [
       "Train loss:   0%|          | 0/30 [00:00<?, ?it/s]"
      ]
     },
     "metadata": {},
     "output_type": "display_data"
    },
    {
     "data": {
      "application/vnd.jupyter.widget-view+json": {
       "model_id": "",
       "version_major": 2,
       "version_minor": 0
      },
      "text/plain": [
       "Train loss:   0%|          | 0/30 [00:00<?, ?it/s]"
      ]
     },
     "metadata": {},
     "output_type": "display_data"
    },
    {
     "data": {
      "application/vnd.jupyter.widget-view+json": {
       "model_id": "",
       "version_major": 2,
       "version_minor": 0
      },
      "text/plain": [
       "Train loss:   0%|          | 0/30 [00:00<?, ?it/s]"
      ]
     },
     "metadata": {},
     "output_type": "display_data"
    },
    {
     "name": "stderr",
     "output_type": "stream",
     "text": [
      "\u001b[32m[I 2022-07-01 15:47:37,773]\u001b[0m Trial 1 finished with value: 2.3032591342926025 and parameters: {'Nh1': 34, 'Nh2': 25, 'Nh3': 25, 'lr': 0.004498189538332885, 'weight': 0.019350273023923448, 'optimizer': 'Adam'}. Best is trial 1 with value: 2.3032591342926025.\u001b[0m\n"
     ]
    },
    {
     "data": {
      "application/vnd.jupyter.widget-view+json": {
       "model_id": "",
       "version_major": 2,
       "version_minor": 0
      },
      "text/plain": [
       "Fold:   0%|          | 0/3 [00:00<?, ?it/s]"
      ]
     },
     "metadata": {},
     "output_type": "display_data"
    },
    {
     "data": {
      "application/vnd.jupyter.widget-view+json": {
       "model_id": "",
       "version_major": 2,
       "version_minor": 0
      },
      "text/plain": [
       "Train loss:   0%|          | 0/30 [00:00<?, ?it/s]"
      ]
     },
     "metadata": {},
     "output_type": "display_data"
    },
    {
     "data": {
      "application/vnd.jupyter.widget-view+json": {
       "model_id": "",
       "version_major": 2,
       "version_minor": 0
      },
      "text/plain": [
       "Train loss:   0%|          | 0/30 [00:00<?, ?it/s]"
      ]
     },
     "metadata": {},
     "output_type": "display_data"
    },
    {
     "data": {
      "application/vnd.jupyter.widget-view+json": {
       "model_id": "",
       "version_major": 2,
       "version_minor": 0
      },
      "text/plain": [
       "Train loss:   0%|          | 0/30 [00:00<?, ?it/s]"
      ]
     },
     "metadata": {},
     "output_type": "display_data"
    },
    {
     "name": "stderr",
     "output_type": "stream",
     "text": [
      "\u001b[32m[I 2022-07-01 15:55:05,912]\u001b[0m Trial 2 finished with value: 2.3037426471710205 and parameters: {'Nh1': 50, 'Nh2': 35, 'Nh3': 30, 'lr': 0.0053402308456828645, 'weight': 0.032964921393482595, 'optimizer': 'Adam'}. Best is trial 1 with value: 2.3032591342926025.\u001b[0m\n"
     ]
    },
    {
     "data": {
      "application/vnd.jupyter.widget-view+json": {
       "model_id": "",
       "version_major": 2,
       "version_minor": 0
      },
      "text/plain": [
       "Fold:   0%|          | 0/3 [00:00<?, ?it/s]"
      ]
     },
     "metadata": {},
     "output_type": "display_data"
    },
    {
     "data": {
      "application/vnd.jupyter.widget-view+json": {
       "model_id": "",
       "version_major": 2,
       "version_minor": 0
      },
      "text/plain": [
       "Train loss:   0%|          | 0/30 [00:00<?, ?it/s]"
      ]
     },
     "metadata": {},
     "output_type": "display_data"
    },
    {
     "data": {
      "application/vnd.jupyter.widget-view+json": {
       "model_id": "",
       "version_major": 2,
       "version_minor": 0
      },
      "text/plain": [
       "Train loss:   0%|          | 0/30 [00:00<?, ?it/s]"
      ]
     },
     "metadata": {},
     "output_type": "display_data"
    },
    {
     "data": {
      "application/vnd.jupyter.widget-view+json": {
       "model_id": "",
       "version_major": 2,
       "version_minor": 0
      },
      "text/plain": [
       "Train loss:   0%|          | 0/30 [00:00<?, ?it/s]"
      ]
     },
     "metadata": {},
     "output_type": "display_data"
    },
    {
     "name": "stderr",
     "output_type": "stream",
     "text": [
      "\u001b[32m[I 2022-07-01 16:02:22,737]\u001b[0m Trial 3 finished with value: 2.30383563041687 and parameters: {'Nh1': 20, 'Nh2': 36, 'Nh3': 24, 'lr': 0.005095310371558952, 'weight': 0.00020194555916966124, 'optimizer': 'SGD'}. Best is trial 1 with value: 2.3032591342926025.\u001b[0m\n"
     ]
    },
    {
     "data": {
      "application/vnd.jupyter.widget-view+json": {
       "model_id": "",
       "version_major": 2,
       "version_minor": 0
      },
      "text/plain": [
       "Fold:   0%|          | 0/3 [00:00<?, ?it/s]"
      ]
     },
     "metadata": {},
     "output_type": "display_data"
    },
    {
     "data": {
      "application/vnd.jupyter.widget-view+json": {
       "model_id": "",
       "version_major": 2,
       "version_minor": 0
      },
      "text/plain": [
       "Train loss:   0%|          | 0/30 [00:00<?, ?it/s]"
      ]
     },
     "metadata": {},
     "output_type": "display_data"
    },
    {
     "data": {
      "application/vnd.jupyter.widget-view+json": {
       "model_id": "",
       "version_major": 2,
       "version_minor": 0
      },
      "text/plain": [
       "Train loss:   0%|          | 0/30 [00:00<?, ?it/s]"
      ]
     },
     "metadata": {},
     "output_type": "display_data"
    },
    {
     "data": {
      "application/vnd.jupyter.widget-view+json": {
       "model_id": "",
       "version_major": 2,
       "version_minor": 0
      },
      "text/plain": [
       "Train loss:   0%|          | 0/30 [00:00<?, ?it/s]"
      ]
     },
     "metadata": {},
     "output_type": "display_data"
    },
    {
     "name": "stderr",
     "output_type": "stream",
     "text": [
      "\u001b[32m[I 2022-07-01 16:09:37,535]\u001b[0m Trial 4 finished with value: 2.314436912536621 and parameters: {'Nh1': 21, 'Nh2': 23, 'Nh3': 20, 'lr': 0.0013852609243538254, 'weight': 0.010883118085151766, 'optimizer': 'SGD'}. Best is trial 1 with value: 2.3032591342926025.\u001b[0m\n"
     ]
    },
    {
     "data": {
      "application/vnd.jupyter.widget-view+json": {
       "model_id": "",
       "version_major": 2,
       "version_minor": 0
      },
      "text/plain": [
       "Fold:   0%|          | 0/3 [00:00<?, ?it/s]"
      ]
     },
     "metadata": {},
     "output_type": "display_data"
    },
    {
     "data": {
      "application/vnd.jupyter.widget-view+json": {
       "model_id": "",
       "version_major": 2,
       "version_minor": 0
      },
      "text/plain": [
       "Train loss:   0%|          | 0/30 [00:00<?, ?it/s]"
      ]
     },
     "metadata": {},
     "output_type": "display_data"
    },
    {
     "data": {
      "application/vnd.jupyter.widget-view+json": {
       "model_id": "",
       "version_major": 2,
       "version_minor": 0
      },
      "text/plain": [
       "Train loss:   0%|          | 0/30 [00:00<?, ?it/s]"
      ]
     },
     "metadata": {},
     "output_type": "display_data"
    },
    {
     "data": {
      "application/vnd.jupyter.widget-view+json": {
       "model_id": "",
       "version_major": 2,
       "version_minor": 0
      },
      "text/plain": [
       "Train loss:   0%|          | 0/30 [00:00<?, ?it/s]"
      ]
     },
     "metadata": {},
     "output_type": "display_data"
    },
    {
     "name": "stderr",
     "output_type": "stream",
     "text": [
      "\u001b[32m[I 2022-07-01 16:17:05,034]\u001b[0m Trial 5 finished with value: 0.7523583769798279 and parameters: {'Nh1': 50, 'Nh2': 24, 'Nh3': 13, 'lr': 0.0035828565139417036, 'weight': 0.001303915422798113, 'optimizer': 'Adam'}. Best is trial 5 with value: 0.7523583769798279.\u001b[0m\n"
     ]
    },
    {
     "data": {
      "application/vnd.jupyter.widget-view+json": {
       "model_id": "",
       "version_major": 2,
       "version_minor": 0
      },
      "text/plain": [
       "Fold:   0%|          | 0/3 [00:00<?, ?it/s]"
      ]
     },
     "metadata": {},
     "output_type": "display_data"
    },
    {
     "data": {
      "application/vnd.jupyter.widget-view+json": {
       "model_id": "",
       "version_major": 2,
       "version_minor": 0
      },
      "text/plain": [
       "Train loss:   0%|          | 0/30 [00:00<?, ?it/s]"
      ]
     },
     "metadata": {},
     "output_type": "display_data"
    },
    {
     "data": {
      "application/vnd.jupyter.widget-view+json": {
       "model_id": "",
       "version_major": 2,
       "version_minor": 0
      },
      "text/plain": [
       "Train loss:   0%|          | 0/30 [00:00<?, ?it/s]"
      ]
     },
     "metadata": {},
     "output_type": "display_data"
    },
    {
     "data": {
      "application/vnd.jupyter.widget-view+json": {
       "model_id": "",
       "version_major": 2,
       "version_minor": 0
      },
      "text/plain": [
       "Train loss:   0%|          | 0/30 [00:00<?, ?it/s]"
      ]
     },
     "metadata": {},
     "output_type": "display_data"
    },
    {
     "name": "stderr",
     "output_type": "stream",
     "text": [
      "\u001b[32m[I 2022-07-01 16:24:30,028]\u001b[0m Trial 6 finished with value: 2.3027217388153076 and parameters: {'Nh1': 46, 'Nh2': 32, 'Nh3': 17, 'lr': 0.009168679054093168, 'weight': 0.0029298517050014438, 'optimizer': 'SGD'}. Best is trial 5 with value: 0.7523583769798279.\u001b[0m\n"
     ]
    },
    {
     "data": {
      "application/vnd.jupyter.widget-view+json": {
       "model_id": "",
       "version_major": 2,
       "version_minor": 0
      },
      "text/plain": [
       "Fold:   0%|          | 0/3 [00:00<?, ?it/s]"
      ]
     },
     "metadata": {},
     "output_type": "display_data"
    },
    {
     "data": {
      "application/vnd.jupyter.widget-view+json": {
       "model_id": "",
       "version_major": 2,
       "version_minor": 0
      },
      "text/plain": [
       "Train loss:   0%|          | 0/30 [00:00<?, ?it/s]"
      ]
     },
     "metadata": {},
     "output_type": "display_data"
    },
    {
     "data": {
      "application/vnd.jupyter.widget-view+json": {
       "model_id": "",
       "version_major": 2,
       "version_minor": 0
      },
      "text/plain": [
       "Train loss:   0%|          | 0/30 [00:00<?, ?it/s]"
      ]
     },
     "metadata": {},
     "output_type": "display_data"
    },
    {
     "data": {
      "application/vnd.jupyter.widget-view+json": {
       "model_id": "",
       "version_major": 2,
       "version_minor": 0
      },
      "text/plain": [
       "Train loss:   0%|          | 0/30 [00:00<?, ?it/s]"
      ]
     },
     "metadata": {},
     "output_type": "display_data"
    },
    {
     "name": "stderr",
     "output_type": "stream",
     "text": [
      "\u001b[32m[I 2022-07-01 16:31:56,453]\u001b[0m Trial 7 finished with value: 0.6009668707847595 and parameters: {'Nh1': 49, 'Nh2': 23, 'Nh3': 24, 'lr': 0.0021494474060276404, 'weight': 0.00015566199342397332, 'optimizer': 'Adam'}. Best is trial 7 with value: 0.6009668707847595.\u001b[0m\n"
     ]
    },
    {
     "data": {
      "application/vnd.jupyter.widget-view+json": {
       "model_id": "",
       "version_major": 2,
       "version_minor": 0
      },
      "text/plain": [
       "Fold:   0%|          | 0/3 [00:00<?, ?it/s]"
      ]
     },
     "metadata": {},
     "output_type": "display_data"
    },
    {
     "data": {
      "application/vnd.jupyter.widget-view+json": {
       "model_id": "",
       "version_major": 2,
       "version_minor": 0
      },
      "text/plain": [
       "Train loss:   0%|          | 0/30 [00:00<?, ?it/s]"
      ]
     },
     "metadata": {},
     "output_type": "display_data"
    },
    {
     "data": {
      "application/vnd.jupyter.widget-view+json": {
       "model_id": "",
       "version_major": 2,
       "version_minor": 0
      },
      "text/plain": [
       "Train loss:   0%|          | 0/30 [00:00<?, ?it/s]"
      ]
     },
     "metadata": {},
     "output_type": "display_data"
    },
    {
     "data": {
      "application/vnd.jupyter.widget-view+json": {
       "model_id": "",
       "version_major": 2,
       "version_minor": 0
      },
      "text/plain": [
       "Train loss:   0%|          | 0/30 [00:00<?, ?it/s]"
      ]
     },
     "metadata": {},
     "output_type": "display_data"
    },
    {
     "name": "stderr",
     "output_type": "stream",
     "text": [
      "\u001b[32m[I 2022-07-01 16:39:19,735]\u001b[0m Trial 8 finished with value: 2.3033525943756104 and parameters: {'Nh1': 46, 'Nh2': 30, 'Nh3': 17, 'lr': 0.0001001571339452963, 'weight': 0.04734975105228667, 'optimizer': 'RMSprop'}. Best is trial 7 with value: 0.6009668707847595.\u001b[0m\n"
     ]
    },
    {
     "data": {
      "application/vnd.jupyter.widget-view+json": {
       "model_id": "",
       "version_major": 2,
       "version_minor": 0
      },
      "text/plain": [
       "Fold:   0%|          | 0/3 [00:00<?, ?it/s]"
      ]
     },
     "metadata": {},
     "output_type": "display_data"
    },
    {
     "data": {
      "application/vnd.jupyter.widget-view+json": {
       "model_id": "",
       "version_major": 2,
       "version_minor": 0
      },
      "text/plain": [
       "Train loss:   0%|          | 0/30 [00:00<?, ?it/s]"
      ]
     },
     "metadata": {},
     "output_type": "display_data"
    },
    {
     "data": {
      "application/vnd.jupyter.widget-view+json": {
       "model_id": "",
       "version_major": 2,
       "version_minor": 0
      },
      "text/plain": [
       "Train loss:   0%|          | 0/30 [00:00<?, ?it/s]"
      ]
     },
     "metadata": {},
     "output_type": "display_data"
    },
    {
     "data": {
      "application/vnd.jupyter.widget-view+json": {
       "model_id": "",
       "version_major": 2,
       "version_minor": 0
      },
      "text/plain": [
       "Train loss:   0%|          | 0/30 [00:00<?, ?it/s]"
      ]
     },
     "metadata": {},
     "output_type": "display_data"
    },
    {
     "name": "stderr",
     "output_type": "stream",
     "text": [
      "\u001b[32m[I 2022-07-01 16:46:41,827]\u001b[0m Trial 9 finished with value: 2.310465097427368 and parameters: {'Nh1': 43, 'Nh2': 37, 'Nh3': 19, 'lr': 0.0024859949797671234, 'weight': 0.007067187682121127, 'optimizer': 'SGD'}. Best is trial 7 with value: 0.6009668707847595.\u001b[0m\n"
     ]
    },
    {
     "name": "stdout",
     "output_type": "stream",
     "text": [
      "Number of finished trials: 10\n",
      "Best trial:\n",
      "  Value: 0.6009668707847595\n",
      "  Params: \n",
      "    Nh1: 49\n",
      "    Nh2: 23\n",
      "    Nh3: 24\n",
      "    lr: 0.0021494474060276404\n",
      "    weight: 0.00015566199342397332\n",
      "    optimizer: Adam\n"
     ]
    }
   ],
   "source": [
    "torch.manual_seed(201098)  \n",
    "\n",
    "def objective(trial):\n",
    "    # Parameters\n",
    "    params = {\n",
    "    'Nh1' : trial.suggest_int('Nh1', 20,50),\n",
    "    'Nh2' : trial.suggest_int('Nh2', 20,50),\n",
    "    'Nh3' : trial.suggest_int('Nh3', 10,30),\n",
    "    'lr'  : trial.suggest_loguniform('lr', 1e-4, 1e-2),\n",
    "    'weight'  : trial.suggest_loguniform('weight', 1e-4, 1e-1),\n",
    "    'optimizer': trial.suggest_categorical(\"optimizer\", [\"Adam\", \"RMSprop\", \"SGD\"])\n",
    "    }\n",
    "    epochs = 30\n",
    "    val_loss = KTrain(params, epochs, train_dataset, 3)\n",
    "    \n",
    "    return np.mean(val_loss)\n",
    "\n",
    "pruner: optuna.pruners.BasePruner = optuna.pruners.NopPruner()\n",
    "\n",
    "study = optuna.create_study(study_name=\"myfirstoptimizationstudy\", direction=\"minimize\", pruner=pruner)\n",
    "study.optimize(objective, n_trials=10)\n",
    "\n",
    "print(\"Number of finished trials: {}\".format(len(study.trials)))\n",
    "\n",
    "print(\"Best trial:\")\n",
    "trial = study.best_trial\n",
    "\n",
    "print(\"  Value: {}\".format(trial.value))\n",
    "\n",
    "print(\"  Params: \")\n",
    "for key, value in trial.params.items():\n",
    "    print(\"    {}: {}\".format(key, value))"
   ]
  },
  {
   "cell_type": "markdown",
   "id": "68f94fab",
   "metadata": {},
   "source": [
    "## BEST MODEL"
   ]
  },
  {
   "cell_type": "code",
   "execution_count": 29,
   "id": "1c3cbebb",
   "metadata": {},
   "outputs": [
    {
     "name": "stdout",
     "output_type": "stream",
     "text": [
      "{'Nh1': 49, 'Nh2': 23, 'Nh3': 24, 'lr': 0.0021494474060276404, 'weight': 0.00015566199342397332, 'optimizer': 'Adam'}\n"
     ]
    },
    {
     "data": {
      "application/vnd.jupyter.widget-view+json": {
       "model_id": "",
       "version_major": 2,
       "version_minor": 0
      },
      "text/plain": [
       "Train loss:   0%|          | 0/100 [00:00<?, ?it/s]"
      ]
     },
     "metadata": {},
     "output_type": "display_data"
    },
    {
     "name": "stdout",
     "output_type": "stream",
     "text": [
      "DONE\n",
      "Test error =  0.35473266\n"
     ]
    }
   ],
   "source": [
    "params = trial.params\n",
    "\n",
    "net = Net(params)\n",
    "print(params)\n",
    "epochs = 100\n",
    "net.train(epochs, train_dataloader, test_dataloader)\n",
    "print(\"DONE\")\n",
    "print(\"Test error = \", net.val_loss[-1])"
   ]
  },
  {
   "cell_type": "code",
   "execution_count": 38,
   "id": "e31505f8",
   "metadata": {},
   "outputs": [
    {
     "data": {
      "image/png": "[encoded data removed]",
      "text/plain": [
       "<Figure size 432x288 with 1 Axes>"
      ]
     },
     "metadata": {
      "needs_background": "light"
     },
     "output_type": "display_data"
    }
   ],
   "source": [
    "plt.plot(net.train_loss, label = 'Train loss')\n",
    "plt.plot(net.val_loss, label = 'Val loss')\n",
    "plt.xlabel('step',fontsize=15)\n",
    "plt.ylabel('train loss',fontsize=15)\n",
    "plt.legend(fontsize=15)\n",
    "\n",
    "plt.savefig('NN_cl_best.png', dpi = 200)"
   ]
  },
  {
   "cell_type": "code",
   "execution_count": 39,
   "id": "a94f5602",
   "metadata": {},
   "outputs": [
    {
     "name": "stdout",
     "output_type": "stream",
     "text": [
      "Accuracy of the network on the test images: 87 %\n"
     ]
    }
   ],
   "source": [
    "correct = 0\n",
    "total = 0\n",
    "\n",
    "with torch.no_grad():\n",
    "    for data in test_dataloader:\n",
    "        images, labels = data\n",
    "        # calculate outputs by running images through the network\n",
    "        outputs = net(images)\n",
    "        # the class with the highest energy is what we choose as prediction\n",
    "        _, predicted = torch.max(outputs.data, 1)\n",
    "        total += labels.size(0)\n",
    "        correct += (predicted == labels).sum().item()\n",
    "\n",
    "print(f'Accuracy of the network on the test images: {100 * correct // total} %')\n"
   ]
  },
  {
   "cell_type": "markdown",
   "id": "f7adc6f9",
   "metadata": {},
   "source": [
    "## WEIGHT HISTOGRAMS"
   ]
  },
  {
   "cell_type": "code",
   "execution_count": 41,
   "id": "e99a6e84",
   "metadata": {},
   "outputs": [
    {
     "data": {
      "image/png": "[encoded data removed]",
      "text/plain": [
       "<Figure size 864x576 with 3 Axes>"
      ]
     },
     "metadata": {
      "needs_background": "light"
     },
     "output_type": "display_data"
    },
    {
     "data": {
      "text/plain": [
       "<Figure size 432x288 with 0 Axes>"
      ]
     },
     "metadata": {},
     "output_type": "display_data"
    }
   ],
   "source": [
    "# First hidden layer\n",
    "h1_w = net.net[0].weight.data.cpu().numpy()\n",
    "h1_b = net.net[0].bias.data.cpu().numpy()\n",
    "\n",
    "# Second hidden layer\n",
    "h2_w = net.net[2].weight.data.cpu().numpy()\n",
    "h2_b = net.net[2].bias.data.cpu().numpy()\n",
    "\n",
    "# Output layer\n",
    "h3_w = net.net[4].weight.data.cpu().numpy()\n",
    "h3_b = net.net[4].bias.data.cpu().numpy()\n",
    "\n",
    "# Weights histogram\n",
    "fig, axs = plt.subplots(3, 1, figsize=(12,8))\n",
    "axs[0].hist(h1_w.flatten(), 50)\n",
    "axs[0].set_title('First hidden layer weights')\n",
    "axs[1].hist(h2_w.flatten(), 50)\n",
    "axs[1].set_title('Second hidden layer weights')\n",
    "axs[2].hist(h3_w.flatten(), 50)\n",
    "axs[2].set_title('Output layer weights')\n",
    "[ax.grid() for ax in axs]\n",
    "plt.tight_layout()\n",
    "plt.show()\n",
    "\n",
    "plt.savefig('NN_cl_best_act.png', dpi = 200)"
   ]
  },
  {
   "cell_type": "code",
   "execution_count": null,
   "id": "cec6e472",
   "metadata": {},
   "outputs": [],
   "source": []
  }
 ],
 "metadata": {
  "kernelspec": {
   "display_name": "Python 3 (ipykernel)",
   "language": "python",
   "name": "python3"
  },
  "language_info": {
   "codemirror_mode": {
    "name": "ipython",
    "version": 3
   },
   "file_extension": ".py",
   "mimetype": "text/x-python",
   "name": "python",
   "nbconvert_exporter": "python",
   "pygments_lexer": "ipython3",
   "version": "3.10.4"
  }
 },
 "nbformat": 4,
 "nbformat_minor": 5
}
