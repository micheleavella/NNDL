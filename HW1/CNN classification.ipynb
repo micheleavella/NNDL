{
 "cells": [
  {
   "cell_type": "code",
   "execution_count": 1,
   "id": "68b83dd1",
   "metadata": {},
   "outputs": [],
   "source": [
    "import pandas as pd\n",
    "import matplotlib.pyplot as plt\n",
    "import numpy as np\n",
    "import torch\n",
    "import torch.nn as nn\n",
    "import torch.optim as optim\n",
    "from torch.utils.data import Dataset, DataLoader\n",
    "from torchvision import transforms\n",
    "import torch.nn.functional as F\n",
    "import optuna\n",
    "from tqdm.notebook import tqdm\n",
    "import torchvision"
   ]
  },
  {
   "cell_type": "markdown",
   "id": "8c153a4b",
   "metadata": {},
   "source": [
    "## CNN CLASSIFICATION"
   ]
  },
  {
   "cell_type": "code",
   "execution_count": 2,
   "id": "5df62395",
   "metadata": {},
   "outputs": [],
   "source": [
    "class CNNDataset(Dataset):\n",
    "\n",
    "    def __init__(self, Dataset):\n",
    "        \n",
    "        self.transform = torchvision.transforms.ToTensor()\n",
    "        # Read the file and store the content in a pandas DataFrame\n",
    "        self.ds = Dataset\n",
    "\n",
    "    def __len__(self):\n",
    "        return len(self.ds)\n",
    "\n",
    "    def __getitem__(self, idx):\n",
    "        row = self.ds[idx]\n",
    "        out = (self.transform(row[0]) , row[1])\n",
    "        return out\n",
    "    \n",
    "def Kfold(i,s):\n",
    "    ind = i.copy()\n",
    "    np.random.shuffle(ind)\n",
    "    fold = np.array_split(ind,s)\n",
    "    K = []\n",
    "    k = [i for i in range(s)]\n",
    "    for i in k:\n",
    "        app = k.copy()\n",
    "        app.pop(i)\n",
    "        app2 = np.concatenate([fold[j] for j in app])\n",
    "        K.append([app2,fold[i]])\n",
    "    return K"
   ]
  },
  {
   "cell_type": "code",
   "execution_count": 3,
   "id": "7a7ae329",
   "metadata": {},
   "outputs": [],
   "source": [
    "class CNN(nn.Module):\n",
    "    def __init__(self, params):#Ni, Nh1, Nh2, Nh3, No):\n",
    "        \n",
    "        \"\"\"\n",
    "        Ni - Input size\n",
    "        Nh1 - Neurons in the 1st hidden layer\n",
    "        Nh2 - Neurons in the 2nd hidden layer\n",
    "        Nh3 - Neurons in the 2nd hidden layer\n",
    "        No - Output size\n",
    "        \n",
    "        lr - learning rate\n",
    "        opt - optimizer\n",
    "        \"\"\"\n",
    "        super().__init__()\n",
    "        \n",
    "        #print('Network initialized')\n",
    "        self.net = nn.Sequential(\n",
    "            # 28 x 28\n",
    "            nn.Conv2d(1, params['Ch1'], 4, padding = 1), #28 x 28\n",
    "            nn.ReLU(),\n",
    "            nn.MaxPool2d(2, 2), # 14 x 14\n",
    "            nn.Conv2d(params['Ch1'] , params['Ch2'], 5, padding = 1), # 14 x 14\n",
    "            nn.ReLU(),\n",
    "            nn.MaxPool2d(2, 2), # 7 x 7\n",
    "            nn.Flatten(),\n",
    "            nn.Linear(in_features=params['Ch2']*5*5 ,out_features=params['Nh1']), \n",
    "            nn.Sigmoid(), \n",
    "            nn.Linear(in_features=params['Nh1'], out_features=params['Nh2']),\n",
    "            nn.Sigmoid(),\n",
    "            nn.Linear(in_features=params['Nh2'], out_features=10))\n",
    "        \n",
    "        self.optimizer = getattr(optim, params['optimizer'])(self.net.parameters(), \n",
    "                                                        lr= params['lr'], weight_decay = params[\"weight\"])\n",
    "        self.loss_f = nn.CrossEntropyLoss()\n",
    "        \n",
    "        self.val_loss = []\n",
    "        self.train_loss = []\n",
    "        self.params = params\n",
    "\n",
    "    # Forward step defines how the LightningModule behaves during inference/prediction.\n",
    "    def forward(self, x):\n",
    "        return self.net(x)\n",
    "\n",
    "    # Training_step defines the training loop. \n",
    "    def train(self, epochs, train_dataloader,val_dataloader,reset = False):\n",
    "\n",
    "        pbar = tqdm(range(epochs),desc = 'Train loss: ',leave=False)\n",
    "        for e in pbar:\n",
    "            train_loss = []\n",
    "            for x,y in train_dataloader:\n",
    "                \n",
    "                #forward\n",
    "                out = self.forward(x)\n",
    "                \n",
    "                #loss\n",
    "                loss = self.loss_f(out,y)\n",
    "                \n",
    "                #backprop\n",
    "                self.net.zero_grad()\n",
    "                loss.backward()\n",
    "                \n",
    "                #optimizer\n",
    "                self.optimizer.step()\n",
    "                \n",
    "                train_loss.append(loss.detach())\n",
    "            \n",
    "            self.train_loss.append(np.mean(train_loss))\n",
    "            \n",
    "            val_loss = []\n",
    "            with torch.no_grad():\n",
    "                for s in val_dataloader:\n",
    "                    x = s[0]\n",
    "                    y = s[1]\n",
    "                    \n",
    "                    #forward\n",
    "                    out = self.forward(x)\n",
    "                    \n",
    "                    #loss\n",
    "                    loss = self.loss_f(out,y)\n",
    "                    \n",
    "                    val_loss.append(loss.detach())\n",
    "                \n",
    "            self.val_loss.append(np.mean(val_loss))\n",
    "            pbar.set_description('Val loss: ' + str(self.val_loss[-1])[:4])\n",
    "\n",
    "    \n",
    "def KTrain(params, epochs, train_df, k):\n",
    "    val_loss = []\n",
    "    for fold in tqdm(Kfold(np.arange(len(train_df)),k) ,desc= \"Fold\", leave = False):\n",
    "        \n",
    "        train_data = torch.utils.data.Subset(train_df, fold[0])\n",
    "        val_data = torch.utils.data.Subset(train_df, fold[1])\n",
    "\n",
    "        batch_size = 1_000\n",
    "        train_dataloader = DataLoader(train_data, batch_size=batch_size, shuffle=True, num_workers=3)\n",
    "        val_dataloader = DataLoader(val_data, batch_size=len(val_data), shuffle=False)\n",
    "        \n",
    "        net = CNN(params)\n",
    "        net.train(epochs, train_dataloader, val_dataloader)\n",
    "        \n",
    "        val_loss.append(net.val_loss[-1])\n",
    "        \n",
    "    return val_loss"
   ]
  },
  {
   "cell_type": "markdown",
   "id": "5d8818d5",
   "metadata": {},
   "source": [
    "## DATASET"
   ]
  },
  {
   "cell_type": "code",
   "execution_count": 4,
   "id": "94d236e6",
   "metadata": {},
   "outputs": [],
   "source": [
    "train_dataset = CNNDataset(torchvision.datasets.FashionMNIST('classifier_data', train=True, download=True))\n",
    "test_dataset  = CNNDataset(torchvision.datasets.FashionMNIST('classifier_data', train=False, download=True))"
   ]
  },
  {
   "cell_type": "code",
   "execution_count": 5,
   "id": "4ae8a59e",
   "metadata": {},
   "outputs": [],
   "source": [
    "labels = [\"T-shirt\", \"Trouser\", \"Pullover\", \"Dress\", \"Coat\", \"Sandal\",\n",
    "\"Shirt\", \"Sneaker\", \"Bag\", \"Ankle boot\"]"
   ]
  },
  {
   "cell_type": "code",
   "execution_count": 6,
   "id": "0e1ce783",
   "metadata": {},
   "outputs": [
    {
     "data": {
      "image/png": "[encoded data removed]",
      "text/plain": [
       "<Figure size 720x360 with 10 Axes>"
      ]
     },
     "metadata": {},
     "output_type": "display_data"
    }
   ],
   "source": [
    "fig, axs = plt.subplots(2, 5, figsize=(10,5))\n",
    "c = 0\n",
    "for i,a in enumerate(axs.flatten()):\n",
    "    while train_dataset[c][1] != i:\n",
    "        c += 1\n",
    "    a.imshow((-1)*train_dataset[c][0].detach()[0], cmap=\"gray\")\n",
    "    a.set_xticks([])\n",
    "    a.set_yticks([])\n",
    "    a.set_title(str(i) + \": \" + labels[i], fontsize = 15)\n",
    "    a.axis('off')\n",
    "\n",
    "plt.subplots_adjust(wspace=0.1, hspace=0.1)\n",
    "plt.savefig(\"img/clothes_imgs.png\", dpi=300)"
   ]
  },
  {
   "cell_type": "code",
   "execution_count": 6,
   "id": "422891d9",
   "metadata": {},
   "outputs": [],
   "source": [
    "batch_size = 200\n",
    "train_dataloader = DataLoader(train_dataset, batch_size=batch_size, shuffle=True, num_workers=3)\n",
    "test_dataloader  = DataLoader(test_dataset,  batch_size=len(test_dataset), shuffle=False, num_workers=3)"
   ]
  },
  {
   "cell_type": "markdown",
   "id": "31ce1423",
   "metadata": {},
   "source": [
    "## FIRST CLASSIFICATION"
   ]
  },
  {
   "cell_type": "code",
   "execution_count": 8,
   "id": "f813ad06",
   "metadata": {},
   "outputs": [
    {
     "data": {
      "application/vnd.jupyter.widget-view+json": {
       "model_id": "",
       "version_major": 2,
       "version_minor": 0
      },
      "text/plain": [
       "Train loss:   0%|          | 0/10 [00:00<?, ?it/s]"
      ]
     },
     "metadata": {},
     "output_type": "display_data"
    },
    {
     "name": "stdout",
     "output_type": "stream",
     "text": [
      "DONE\n",
      "Test error =  0.38133672\n"
     ]
    }
   ],
   "source": [
    "params = {\n",
    "    'Ch1': 5,\n",
    "    'Ch2': 12,\n",
    "    'Nh1' : 20,\n",
    "    'Nh2' : 20,\n",
    "    'lr'  : 1e-2,\n",
    "    'optimizer': 'Adam',\n",
    "    'weight': 10**(-3)\n",
    "    }\n",
    "\n",
    "\n",
    "net = CNN(params)\n",
    "epochs = 10\n",
    "net.train(epochs, train_dataloader, test_dataloader)\n",
    "print(\"DONE\")\n",
    "print(\"Test error = \", net.val_loss[-1])"
   ]
  },
  {
   "cell_type": "code",
   "execution_count": 9,
   "id": "98dde13c",
   "metadata": {},
   "outputs": [
    {
     "data": {
      "text/plain": [
       "<matplotlib.legend.Legend at 0x7fcf4219c6a0>"
      ]
     },
     "execution_count": 9,
     "metadata": {},
     "output_type": "execute_result"
    },
    {
     "data": {
      "image/png": "[encoded data removed]",
      "text/plain": [
       "<Figure size 432x288 with 1 Axes>"
      ]
     },
     "metadata": {
      "needs_background": "light"
     },
     "output_type": "display_data"
    }
   ],
   "source": [
    "plt.plot(net.train_loss, label = \"train loss\")\n",
    "plt.plot(net.val_loss, label = 'val loss')\n",
    "plt.xlabel('step',fontsize=15)\n",
    "plt.ylabel('train loss',fontsize=15)\n",
    "\n",
    "plt.legend(fontsize = 15)"
   ]
  },
  {
   "cell_type": "code",
   "execution_count": 10,
   "id": "65b02f55",
   "metadata": {},
   "outputs": [
    {
     "name": "stdout",
     "output_type": "stream",
     "text": [
      "Accuracy of the network on the test images: 86 %\n"
     ]
    }
   ],
   "source": [
    "correct = 0\n",
    "total = 0\n",
    "\n",
    "with torch.no_grad():\n",
    "    for data in test_dataloader:\n",
    "        images, labels = data\n",
    "        # calculate outputs by running images through the network\n",
    "        outputs = net(images)\n",
    "        # the class with the highest energy is what we choose as prediction\n",
    "        _, predicted = torch.max(outputs.data, 1)\n",
    "        total += labels.size(0)\n",
    "        correct += (predicted == labels).sum().item()\n",
    "\n",
    "print(f'Accuracy of the network on the test images: {100 * correct // total} %')\n"
   ]
  },
  {
   "cell_type": "markdown",
   "id": "40c41242",
   "metadata": {},
   "source": [
    "## HYPERPARAMETER OPTIMIZATION"
   ]
  },
  {
   "cell_type": "code",
   "execution_count": 12,
   "id": "fa5f365d",
   "metadata": {
    "scrolled": true
   },
   "outputs": [
    {
     "name": "stderr",
     "output_type": "stream",
     "text": [
      "\u001b[32m[I 2022-07-05 14:21:34,451]\u001b[0m A new study created in memory with name: myfirstoptimizationstudy\u001b[0m\n"
     ]
    },
    {
     "data": {
      "application/vnd.jupyter.widget-view+json": {
       "model_id": "",
       "version_major": 2,
       "version_minor": 0
      },
      "text/plain": [
       "Fold:   0%|          | 0/3 [00:00<?, ?it/s]"
      ]
     },
     "metadata": {},
     "output_type": "display_data"
    },
    {
     "data": {
      "application/vnd.jupyter.widget-view+json": {
       "model_id": "",
       "version_major": 2,
       "version_minor": 0
      },
      "text/plain": [
       "Train loss:   0%|          | 0/10 [00:00<?, ?it/s]"
      ]
     },
     "metadata": {},
     "output_type": "display_data"
    },
    {
     "data": {
      "application/vnd.jupyter.widget-view+json": {
       "model_id": "",
       "version_major": 2,
       "version_minor": 0
      },
      "text/plain": [
       "Train loss:   0%|          | 0/10 [00:00<?, ?it/s]"
      ]
     },
     "metadata": {},
     "output_type": "display_data"
    },
    {
     "data": {
      "application/vnd.jupyter.widget-view+json": {
       "model_id": "",
       "version_major": 2,
       "version_minor": 0
      },
      "text/plain": [
       "Train loss:   0%|          | 0/10 [00:00<?, ?it/s]"
      ]
     },
     "metadata": {},
     "output_type": "display_data"
    },
    {
     "name": "stderr",
     "output_type": "stream",
     "text": [
      "\u001b[32m[I 2022-07-05 14:26:41,990]\u001b[0m Trial 0 finished with value: 2.3033387660980225 and parameters: {'Nh1': 23, 'Nh2': 32, 'Ch1': 7, 'Ch2': 14, 'lr': 0.001751326955876277, 'weight': 0.03706933515034792, 'optimizer': 'Adam'}. Best is trial 0 with value: 2.3033387660980225.\u001b[0m\n"
     ]
    },
    {
     "data": {
      "application/vnd.jupyter.widget-view+json": {
       "model_id": "",
       "version_major": 2,
       "version_minor": 0
      },
      "text/plain": [
       "Fold:   0%|          | 0/3 [00:00<?, ?it/s]"
      ]
     },
     "metadata": {},
     "output_type": "display_data"
    },
    {
     "data": {
      "application/vnd.jupyter.widget-view+json": {
       "model_id": "",
       "version_major": 2,
       "version_minor": 0
      },
      "text/plain": [
       "Train loss:   0%|          | 0/10 [00:00<?, ?it/s]"
      ]
     },
     "metadata": {},
     "output_type": "display_data"
    },
    {
     "data": {
      "application/vnd.jupyter.widget-view+json": {
       "model_id": "",
       "version_major": 2,
       "version_minor": 0
      },
      "text/plain": [
       "Train loss:   0%|          | 0/10 [00:00<?, ?it/s]"
      ]
     },
     "metadata": {},
     "output_type": "display_data"
    },
    {
     "data": {
      "application/vnd.jupyter.widget-view+json": {
       "model_id": "",
       "version_major": 2,
       "version_minor": 0
      },
      "text/plain": [
       "Train loss:   0%|          | 0/10 [00:00<?, ?it/s]"
      ]
     },
     "metadata": {},
     "output_type": "display_data"
    },
    {
     "name": "stderr",
     "output_type": "stream",
     "text": [
      "\u001b[32m[I 2022-07-05 14:37:09,442]\u001b[0m Trial 1 finished with value: 0.9601842761039734 and parameters: {'Nh1': 21, 'Nh2': 21, 'Ch1': 9, 'Ch2': 15, 'lr': 0.0017382745985663856, 'weight': 0.0031699078621033184, 'optimizer': 'RMSprop'}. Best is trial 1 with value: 0.9601842761039734.\u001b[0m\n"
     ]
    },
    {
     "data": {
      "application/vnd.jupyter.widget-view+json": {
       "model_id": "",
       "version_major": 2,
       "version_minor": 0
      },
      "text/plain": [
       "Fold:   0%|          | 0/3 [00:00<?, ?it/s]"
      ]
     },
     "metadata": {},
     "output_type": "display_data"
    },
    {
     "data": {
      "application/vnd.jupyter.widget-view+json": {
       "model_id": "",
       "version_major": 2,
       "version_minor": 0
      },
      "text/plain": [
       "Train loss:   0%|          | 0/10 [00:00<?, ?it/s]"
      ]
     },
     "metadata": {},
     "output_type": "display_data"
    },
    {
     "data": {
      "application/vnd.jupyter.widget-view+json": {
       "model_id": "",
       "version_major": 2,
       "version_minor": 0
      },
      "text/plain": [
       "Train loss:   0%|          | 0/10 [00:00<?, ?it/s]"
      ]
     },
     "metadata": {},
     "output_type": "display_data"
    },
    {
     "data": {
      "application/vnd.jupyter.widget-view+json": {
       "model_id": "",
       "version_major": 2,
       "version_minor": 0
      },
      "text/plain": [
       "Train loss:   0%|          | 0/10 [00:00<?, ?it/s]"
      ]
     },
     "metadata": {},
     "output_type": "display_data"
    },
    {
     "name": "stderr",
     "output_type": "stream",
     "text": [
      "\u001b[32m[I 2022-07-05 14:42:26,107]\u001b[0m Trial 2 finished with value: 2.3269615173339844 and parameters: {'Nh1': 47, 'Nh2': 37, 'Ch1': 8, 'Ch2': 14, 'lr': 0.000667014070243367, 'weight': 0.030689560193764908, 'optimizer': 'SGD'}. Best is trial 1 with value: 0.9601842761039734.\u001b[0m\n"
     ]
    },
    {
     "data": {
      "application/vnd.jupyter.widget-view+json": {
       "model_id": "",
       "version_major": 2,
       "version_minor": 0
      },
      "text/plain": [
       "Fold:   0%|          | 0/3 [00:00<?, ?it/s]"
      ]
     },
     "metadata": {},
     "output_type": "display_data"
    },
    {
     "data": {
      "application/vnd.jupyter.widget-view+json": {
       "model_id": "",
       "version_major": 2,
       "version_minor": 0
      },
      "text/plain": [
       "Train loss:   0%|          | 0/10 [00:00<?, ?it/s]"
      ]
     },
     "metadata": {},
     "output_type": "display_data"
    },
    {
     "data": {
      "application/vnd.jupyter.widget-view+json": {
       "model_id": "",
       "version_major": 2,
       "version_minor": 0
      },
      "text/plain": [
       "Train loss:   0%|          | 0/10 [00:00<?, ?it/s]"
      ]
     },
     "metadata": {},
     "output_type": "display_data"
    },
    {
     "data": {
      "application/vnd.jupyter.widget-view+json": {
       "model_id": "",
       "version_major": 2,
       "version_minor": 0
      },
      "text/plain": [
       "Train loss:   0%|          | 0/10 [00:00<?, ?it/s]"
      ]
     },
     "metadata": {},
     "output_type": "display_data"
    },
    {
     "name": "stderr",
     "output_type": "stream",
     "text": [
      "\u001b[32m[I 2022-07-05 14:50:21,496]\u001b[0m Trial 3 finished with value: 2.3031718730926514 and parameters: {'Nh1': 24, 'Nh2': 26, 'Ch1': 9, 'Ch2': 12, 'lr': 0.002332336644481059, 'weight': 0.03286755521558747, 'optimizer': 'RMSprop'}. Best is trial 1 with value: 0.9601842761039734.\u001b[0m\n"
     ]
    },
    {
     "data": {
      "application/vnd.jupyter.widget-view+json": {
       "model_id": "",
       "version_major": 2,
       "version_minor": 0
      },
      "text/plain": [
       "Fold:   0%|          | 0/3 [00:00<?, ?it/s]"
      ]
     },
     "metadata": {},
     "output_type": "display_data"
    },
    {
     "data": {
      "application/vnd.jupyter.widget-view+json": {
       "model_id": "",
       "version_major": 2,
       "version_minor": 0
      },
      "text/plain": [
       "Train loss:   0%|          | 0/10 [00:00<?, ?it/s]"
      ]
     },
     "metadata": {},
     "output_type": "display_data"
    },
    {
     "data": {
      "application/vnd.jupyter.widget-view+json": {
       "model_id": "",
       "version_major": 2,
       "version_minor": 0
      },
      "text/plain": [
       "Train loss:   0%|          | 0/10 [00:00<?, ?it/s]"
      ]
     },
     "metadata": {},
     "output_type": "display_data"
    },
    {
     "data": {
      "application/vnd.jupyter.widget-view+json": {
       "model_id": "",
       "version_major": 2,
       "version_minor": 0
      },
      "text/plain": [
       "Train loss:   0%|          | 0/10 [00:00<?, ?it/s]"
      ]
     },
     "metadata": {},
     "output_type": "display_data"
    },
    {
     "name": "stderr",
     "output_type": "stream",
     "text": [
      "\u001b[32m[I 2022-07-05 14:54:51,035]\u001b[0m Trial 4 finished with value: 2.3182015419006348 and parameters: {'Nh1': 37, 'Nh2': 49, 'Ch1': 4, 'Ch2': 14, 'lr': 0.00042563404475744855, 'weight': 0.00022360073478983644, 'optimizer': 'SGD'}. Best is trial 1 with value: 0.9601842761039734.\u001b[0m\n"
     ]
    },
    {
     "data": {
      "application/vnd.jupyter.widget-view+json": {
       "model_id": "",
       "version_major": 2,
       "version_minor": 0
      },
      "text/plain": [
       "Fold:   0%|          | 0/3 [00:00<?, ?it/s]"
      ]
     },
     "metadata": {},
     "output_type": "display_data"
    },
    {
     "data": {
      "application/vnd.jupyter.widget-view+json": {
       "model_id": "",
       "version_major": 2,
       "version_minor": 0
      },
      "text/plain": [
       "Train loss:   0%|          | 0/10 [00:00<?, ?it/s]"
      ]
     },
     "metadata": {},
     "output_type": "display_data"
    },
    {
     "data": {
      "application/vnd.jupyter.widget-view+json": {
       "model_id": "",
       "version_major": 2,
       "version_minor": 0
      },
      "text/plain": [
       "Train loss:   0%|          | 0/10 [00:00<?, ?it/s]"
      ]
     },
     "metadata": {},
     "output_type": "display_data"
    },
    {
     "data": {
      "application/vnd.jupyter.widget-view+json": {
       "model_id": "",
       "version_major": 2,
       "version_minor": 0
      },
      "text/plain": [
       "Train loss:   0%|          | 0/10 [00:00<?, ?it/s]"
      ]
     },
     "metadata": {},
     "output_type": "display_data"
    },
    {
     "name": "stderr",
     "output_type": "stream",
     "text": [
      "\u001b[32m[I 2022-07-05 15:00:06,903]\u001b[0m Trial 5 finished with value: 2.3083574771881104 and parameters: {'Nh1': 36, 'Nh2': 28, 'Ch1': 8, 'Ch2': 14, 'lr': 0.00372121069813354, 'weight': 0.04923562686086417, 'optimizer': 'SGD'}. Best is trial 1 with value: 0.9601842761039734.\u001b[0m\n"
     ]
    },
    {
     "data": {
      "application/vnd.jupyter.widget-view+json": {
       "model_id": "",
       "version_major": 2,
       "version_minor": 0
      },
      "text/plain": [
       "Fold:   0%|          | 0/3 [00:00<?, ?it/s]"
      ]
     },
     "metadata": {},
     "output_type": "display_data"
    },
    {
     "data": {
      "application/vnd.jupyter.widget-view+json": {
       "model_id": "",
       "version_major": 2,
       "version_minor": 0
      },
      "text/plain": [
       "Train loss:   0%|          | 0/10 [00:00<?, ?it/s]"
      ]
     },
     "metadata": {},
     "output_type": "display_data"
    },
    {
     "data": {
      "application/vnd.jupyter.widget-view+json": {
       "model_id": "",
       "version_major": 2,
       "version_minor": 0
      },
      "text/plain": [
       "Train loss:   0%|          | 0/10 [00:00<?, ?it/s]"
      ]
     },
     "metadata": {},
     "output_type": "display_data"
    },
    {
     "data": {
      "application/vnd.jupyter.widget-view+json": {
       "model_id": "",
       "version_major": 2,
       "version_minor": 0
      },
      "text/plain": [
       "Train loss:   0%|          | 0/10 [00:00<?, ?it/s]"
      ]
     },
     "metadata": {},
     "output_type": "display_data"
    },
    {
     "name": "stderr",
     "output_type": "stream",
     "text": [
      "\u001b[32m[I 2022-07-05 15:07:03,743]\u001b[0m Trial 6 finished with value: 1.6974897384643555 and parameters: {'Nh1': 35, 'Nh2': 22, 'Ch1': 9, 'Ch2': 14, 'lr': 0.000295077129561728, 'weight': 0.0023170736238445028, 'optimizer': 'Adam'}. Best is trial 1 with value: 0.9601842761039734.\u001b[0m\n"
     ]
    },
    {
     "data": {
      "application/vnd.jupyter.widget-view+json": {
       "model_id": "",
       "version_major": 2,
       "version_minor": 0
      },
      "text/plain": [
       "Fold:   0%|          | 0/3 [00:00<?, ?it/s]"
      ]
     },
     "metadata": {},
     "output_type": "display_data"
    },
    {
     "data": {
      "application/vnd.jupyter.widget-view+json": {
       "model_id": "",
       "version_major": 2,
       "version_minor": 0
      },
      "text/plain": [
       "Train loss:   0%|          | 0/10 [00:00<?, ?it/s]"
      ]
     },
     "metadata": {},
     "output_type": "display_data"
    },
    {
     "data": {
      "application/vnd.jupyter.widget-view+json": {
       "model_id": "",
       "version_major": 2,
       "version_minor": 0
      },
      "text/plain": [
       "Train loss:   0%|          | 0/10 [00:00<?, ?it/s]"
      ]
     },
     "metadata": {},
     "output_type": "display_data"
    },
    {
     "data": {
      "application/vnd.jupyter.widget-view+json": {
       "model_id": "",
       "version_major": 2,
       "version_minor": 0
      },
      "text/plain": [
       "Train loss:   0%|          | 0/10 [00:00<?, ?it/s]"
      ]
     },
     "metadata": {},
     "output_type": "display_data"
    },
    {
     "name": "stderr",
     "output_type": "stream",
     "text": [
      "\u001b[32m[I 2022-07-05 15:11:32,776]\u001b[0m Trial 7 finished with value: 0.3791445791721344 and parameters: {'Nh1': 38, 'Nh2': 28, 'Ch1': 4, 'Ch2': 12, 'lr': 0.007606565664582346, 'weight': 0.00010982146325443392, 'optimizer': 'Adam'}. Best is trial 7 with value: 0.3791445791721344.\u001b[0m\n"
     ]
    },
    {
     "data": {
      "application/vnd.jupyter.widget-view+json": {
       "model_id": "",
       "version_major": 2,
       "version_minor": 0
      },
      "text/plain": [
       "Fold:   0%|          | 0/3 [00:00<?, ?it/s]"
      ]
     },
     "metadata": {},
     "output_type": "display_data"
    },
    {
     "data": {
      "application/vnd.jupyter.widget-view+json": {
       "model_id": "",
       "version_major": 2,
       "version_minor": 0
      },
      "text/plain": [
       "Train loss:   0%|          | 0/10 [00:00<?, ?it/s]"
      ]
     },
     "metadata": {},
     "output_type": "display_data"
    },
    {
     "data": {
      "application/vnd.jupyter.widget-view+json": {
       "model_id": "",
       "version_major": 2,
       "version_minor": 0
      },
      "text/plain": [
       "Train loss:   0%|          | 0/10 [00:00<?, ?it/s]"
      ]
     },
     "metadata": {},
     "output_type": "display_data"
    },
    {
     "data": {
      "application/vnd.jupyter.widget-view+json": {
       "model_id": "",
       "version_major": 2,
       "version_minor": 0
      },
      "text/plain": [
       "Train loss:   0%|          | 0/10 [00:00<?, ?it/s]"
      ]
     },
     "metadata": {},
     "output_type": "display_data"
    },
    {
     "name": "stderr",
     "output_type": "stream",
     "text": [
      "\u001b[32m[I 2022-07-05 15:19:03,871]\u001b[0m Trial 8 finished with value: 1.5635662078857422 and parameters: {'Nh1': 45, 'Nh2': 26, 'Ch1': 10, 'Ch2': 11, 'lr': 0.000238734539338917, 'weight': 0.0006564071794708762, 'optimizer': 'RMSprop'}. Best is trial 7 with value: 0.3791445791721344.\u001b[0m\n"
     ]
    },
    {
     "data": {
      "application/vnd.jupyter.widget-view+json": {
       "model_id": "",
       "version_major": 2,
       "version_minor": 0
      },
      "text/plain": [
       "Fold:   0%|          | 0/3 [00:00<?, ?it/s]"
      ]
     },
     "metadata": {},
     "output_type": "display_data"
    },
    {
     "data": {
      "application/vnd.jupyter.widget-view+json": {
       "model_id": "",
       "version_major": 2,
       "version_minor": 0
      },
      "text/plain": [
       "Train loss:   0%|          | 0/10 [00:00<?, ?it/s]"
      ]
     },
     "metadata": {},
     "output_type": "display_data"
    },
    {
     "data": {
      "application/vnd.jupyter.widget-view+json": {
       "model_id": "",
       "version_major": 2,
       "version_minor": 0
      },
      "text/plain": [
       "Train loss:   0%|          | 0/10 [00:00<?, ?it/s]"
      ]
     },
     "metadata": {},
     "output_type": "display_data"
    },
    {
     "data": {
      "application/vnd.jupyter.widget-view+json": {
       "model_id": "",
       "version_major": 2,
       "version_minor": 0
      },
      "text/plain": [
       "Train loss:   0%|          | 0/10 [00:00<?, ?it/s]"
      ]
     },
     "metadata": {},
     "output_type": "display_data"
    },
    {
     "name": "stderr",
     "output_type": "stream",
     "text": [
      "\u001b[32m[I 2022-07-05 15:23:43,110]\u001b[0m Trial 9 finished with value: 2.3271162509918213 and parameters: {'Nh1': 45, 'Nh2': 49, 'Ch1': 5, 'Ch2': 11, 'lr': 0.00020327096721992362, 'weight': 0.007246637762872105, 'optimizer': 'SGD'}. Best is trial 7 with value: 0.3791445791721344.\u001b[0m\n"
     ]
    },
    {
     "name": "stdout",
     "output_type": "stream",
     "text": [
      "Number of finished trials: 10\n",
      "Best trial:\n",
      "  Value: 0.3791445791721344\n",
      "  Params: \n",
      "    Nh1: 38\n",
      "    Nh2: 28\n",
      "    Ch1: 4\n",
      "    Ch2: 12\n",
      "    lr: 0.007606565664582346\n",
      "    weight: 0.00010982146325443392\n",
      "    optimizer: Adam\n"
     ]
    }
   ],
   "source": [
    "torch.manual_seed(201098)  \n",
    "\n",
    "def objective(trial):\n",
    "    # Parameters\n",
    "    params = {\n",
    "    'Nh1' : trial.suggest_int('Nh1', 20,50),\n",
    "    'Nh2' : trial.suggest_int('Nh2', 20,50),\n",
    "    'Ch1' : trial.suggest_int('Ch1', 4,10),\n",
    "    'Ch2' : trial.suggest_int('Ch2', 10,15),\n",
    "    'lr'  : trial.suggest_loguniform('lr', 1e-4, 1e-2),\n",
    "    'weight'  : trial.suggest_loguniform('weight', 1e-4, 1e-1),\n",
    "    'optimizer': trial.suggest_categorical(\"optimizer\", [\"Adam\", \"RMSprop\", \"SGD\"])\n",
    "    }\n",
    "    epochs = 10\n",
    "    val_loss = KTrain(params, epochs, train_dataset, 3)\n",
    "    \n",
    "    return np.mean(val_loss)\n",
    "\n",
    "pruner: optuna.pruners.BasePruner = optuna.pruners.NopPruner()\n",
    "\n",
    "study = optuna.create_study(study_name=\"myfirstoptimizationstudy\", direction=\"minimize\", pruner=pruner)\n",
    "study.optimize(objective, n_trials=10)\n",
    "\n",
    "print(\"Number of finished trials: {}\".format(len(study.trials)))\n",
    "\n",
    "print(\"Best trial:\")\n",
    "trial = study.best_trial\n",
    "\n",
    "print(\"  Value: {}\".format(trial.value))\n",
    "\n",
    "print(\"  Params: \")\n",
    "for key, value in trial.params.items():\n",
    "    print(\"    {}: {}\".format(key, value))"
   ]
  },
  {
   "cell_type": "markdown",
   "id": "60f4ece8",
   "metadata": {},
   "source": [
    "## BEST MODEL"
   ]
  },
  {
   "cell_type": "code",
   "execution_count": 10,
   "id": "f7794e6f",
   "metadata": {},
   "outputs": [],
   "source": [
    "best_params = {\n",
    "    'Ch1': 4,\n",
    "    'Ch2': 12,\n",
    "    'Nh1' : 38,\n",
    "    'Nh2' : 28,\n",
    "    'lr'  : 0.007606565664582346,\n",
    "    'optimizer': 'Adam',\n",
    "    'weight': 0.00010982146325443392\n",
    "    }"
   ]
  },
  {
   "cell_type": "code",
   "execution_count": 12,
   "id": "6df1a00c",
   "metadata": {},
   "outputs": [
    {
     "data": {
      "application/vnd.jupyter.widget-view+json": {
       "model_id": "",
       "version_major": 2,
       "version_minor": 0
      },
      "text/plain": [
       "Train loss:   0%|          | 0/15 [00:00<?, ?it/s]"
      ]
     },
     "metadata": {},
     "output_type": "display_data"
    },
    {
     "name": "stdout",
     "output_type": "stream",
     "text": [
      "DONE\n",
      "Test error =  0.2989501\n"
     ]
    }
   ],
   "source": [
    "#params = trial.params\n",
    "params = best_params\n",
    "\n",
    "net = CNN(params)\n",
    "epochs = 15\n",
    "net.train(epochs, train_dataloader, test_dataloader)\n",
    "print(\"DONE\")\n",
    "print(\"Test error = \", net.val_loss[-1])"
   ]
  },
  {
   "cell_type": "code",
   "execution_count": 14,
   "id": "7969521a",
   "metadata": {},
   "outputs": [
    {
     "data": {
      "text/plain": [
       "<matplotlib.legend.Legend at 0x7fac316c7580>"
      ]
     },
     "execution_count": 14,
     "metadata": {},
     "output_type": "execute_result"
    },
    {
     "data": {
      "image/png": "[encoded data removed]",
      "text/plain": [
       "<Figure size 432x288 with 1 Axes>"
      ]
     },
     "metadata": {
      "needs_background": "light"
     },
     "output_type": "display_data"
    }
   ],
   "source": [
    "plt.plot(net.train_loss, label = \"train loss\")\n",
    "plt.plot(net.val_loss, label = 'val loss')\n",
    "plt.xlabel('step',fontsize=15)\n",
    "plt.ylabel('train loss',fontsize=15)\n",
    "\n",
    "plt.legend(fontsize = 15)"
   ]
  },
  {
   "cell_type": "code",
   "execution_count": 15,
   "id": "b501f547",
   "metadata": {},
   "outputs": [
    {
     "name": "stdout",
     "output_type": "stream",
     "text": [
      "Accuracy of the network on the test images: 89 %\n"
     ]
    }
   ],
   "source": [
    "correct = 0\n",
    "total = 0\n",
    "\n",
    "with torch.no_grad():\n",
    "    for data in test_dataloader:\n",
    "        images, labels = data\n",
    "        # calculate outputs by running images through the network\n",
    "        outputs = net(images)\n",
    "        # the class with the highest energy is what we choose as prediction\n",
    "        _, predicted = torch.max(outputs.data, 1)\n",
    "        total += labels.size(0)\n",
    "        correct += (predicted == labels).sum().item()\n",
    "\n",
    "print(f'Accuracy of the network on the test images: {100 * correct // total} %')"
   ]
  },
  {
   "cell_type": "markdown",
   "id": "3b53903e",
   "metadata": {},
   "source": [
    "## WEIGHT HISTOGRAMS"
   ]
  },
  {
   "cell_type": "code",
   "execution_count": 16,
   "id": "b3fb4b57",
   "metadata": {},
   "outputs": [
    {
     "data": {
      "image/png": "[encoded data removed]",
      "text/plain": [
       "<Figure size 720x360 with 2 Axes>"
      ]
     },
     "metadata": {
      "needs_background": "light"
     },
     "output_type": "display_data"
    }
   ],
   "source": [
    "# First hidden layer\n",
    "h1_w = net.net[9].weight.data.cpu().numpy()\n",
    "h1_b = net.net[9].bias.data.cpu().numpy()\n",
    "\n",
    "# Second hidden layer\n",
    "h2_w = net.net[11].weight.data.cpu().numpy()\n",
    "h2_b = net.net[11].bias.data.cpu().numpy()\n",
    "\n",
    "\n",
    "# Weights histogram\n",
    "fig, axs = plt.subplots(2, 1, figsize=(10,5))\n",
    "axs[0].hist(h1_w.flatten(), 50)\n",
    "axs[0].set_title('First hidden layer weights')\n",
    "axs[1].hist(h2_w.flatten(), 50)\n",
    "axs[1].set_title('Last hidden layer weights')\n",
    "[ax.grid() for ax in axs]\n",
    "plt.tight_layout()\n",
    "plt.savefig(\"img/weig\")\n"
   ]
  },
  {
   "cell_type": "markdown",
   "id": "9611c5de",
   "metadata": {},
   "source": [
    "## ACTIVATION "
   ]
  },
  {
   "cell_type": "code",
   "execution_count": 17,
   "id": "46c56b79",
   "metadata": {},
   "outputs": [
    {
     "data": {
      "image/png": "[encoded data removed]",
      "text/plain": [
       "<Figure size 720x180 with 4 Axes>"
      ]
     },
     "metadata": {},
     "output_type": "display_data"
    }
   ],
   "source": [
    "def get_activation(layer, input, output):\n",
    "    global activation\n",
    "    activation = torch.sigmoid(output)\n",
    "\n",
    "### Register hook  \n",
    "hook_handle = net.net[0].register_forward_hook(get_activation)\n",
    "\n",
    "### Analyze activations\n",
    "\n",
    "#net.eval()\n",
    "with torch.no_grad():\n",
    "    x1 = test_dataset[100][0].reshape(1,1,28,28)\n",
    "    y1 = net(x1)\n",
    "    z1 = activation\n",
    "\n",
    "### Remove hook\n",
    "hook_handle.remove()\n",
    "\n",
    "### Plot activations\n",
    "fig,ax = plt.subplots(1,z1.shape[1], figsize = (10,2.5))\n",
    "for i,a in enumerate(ax):\n",
    "    a.imshow(z1[0,i,:,:],cmap='Greys')\n",
    "    a.set_xticks([])    \n",
    "    a.set_yticks([])\n",
    "fig.suptitle('Activation 1 conv layer', fontsize = 15)\n",
    "plt.savefig(\"img/activation_conv.png\", dpi =300)"
   ]
  },
  {
   "cell_type": "code",
   "execution_count": 18,
   "id": "32814660",
   "metadata": {},
   "outputs": [
    {
     "data": {
      "image/png": "[encoded data removed]",
      "text/plain": [
       "<Figure size 720x230.4 with 12 Axes>"
      ]
     },
     "metadata": {},
     "output_type": "display_data"
    }
   ],
   "source": [
    "def get_activation(layer, input, output):\n",
    "    global activation\n",
    "    activation = torch.sigmoid(output)\n",
    "\n",
    "### Register hook  \n",
    "hook_handle = net.net[3].register_forward_hook(get_activation)\n",
    "\n",
    "### Analyze activations\n",
    "\n",
    "#net.eval()\n",
    "with torch.no_grad():\n",
    "    x1 = test_dataset[100][0].reshape(1,1,28,28)\n",
    "    y1 = net(x1)\n",
    "    z1 = activation\n",
    "\n",
    "### Remove hook\n",
    "hook_handle.remove()\n",
    "\n",
    "### Plot activations\n",
    "fig,ax = plt.subplots(2,6, figsize = (10,3.2))\n",
    "for i,a in enumerate(ax.flatten()):\n",
    "    a.imshow(z1[0,i,:,:],cmap='Greys')\n",
    "    a.set_xticks([])    \n",
    "    a.set_yticks([])\n",
    "    \n",
    "fig.suptitle('Activation 2 conv layer', fontsize = 15)\n",
    "plt.savefig(\"img/activation_conv2.png\", dpi =300)"
   ]
  },
  {
   "cell_type": "markdown",
   "id": "2edbe832",
   "metadata": {},
   "source": [
    "### CONFUSION MATRIX"
   ]
  },
  {
   "cell_type": "code",
   "execution_count": 19,
   "id": "39ecf2d8",
   "metadata": {},
   "outputs": [
    {
     "data": {
      "image/png": "[encoded data removed]",
      "text/plain": [
       "<Figure size 576x504 with 1 Axes>"
      ]
     },
     "metadata": {
      "needs_background": "light"
     },
     "output_type": "display_data"
    }
   ],
   "source": [
    "from sklearn.metrics import confusion_matrix\n",
    "import seaborn as sn\n",
    "\n",
    "y_pred = []\n",
    "y_true = []\n",
    "\n",
    "for inputs, labels in test_dataloader:\n",
    "        output = net(inputs) # Feed Network\n",
    "\n",
    "        output = (torch.max(torch.exp(output), 1)[1]).data.cpu().numpy()\n",
    "        y_pred.extend(output) # Save Prediction\n",
    "        \n",
    "        labels = labels.data.cpu().numpy()\n",
    "        y_true.extend(labels) # Save Truth\n",
    "\n",
    "# constant for classes\n",
    "classes = ('T-shirt/top', 'Trouser', 'Pullover', 'Dress', 'Coat',\n",
    "        'Sandal', 'Shirt', 'Sneaker', 'Bag', 'Ankle Boot')\n",
    "\n",
    "# Build confusion matrix\n",
    "cf_matrix = confusion_matrix(y_true, y_pred)\n",
    "df_cm = pd.DataFrame(cf_matrix/np.sum(cf_matrix) *10, index = [i for i in classes],\n",
    "                     columns = [i for i in classes])\n",
    "plt.figure(figsize = (8,7))\n",
    "sn.heatmap(df_cm, annot=True, cbar=False)\n",
    "plt.savefig(\"img/confusion_matrix.png\", dpi =300)"
   ]
  },
  {
   "cell_type": "markdown",
   "id": "21e56ed4",
   "metadata": {},
   "source": [
    "### Receptive fields"
   ]
  },
  {
   "cell_type": "code",
   "execution_count": 29,
   "id": "456eb3ab",
   "metadata": {},
   "outputs": [
    {
     "data": {
      "text/plain": [
       "torch.Size([4, 1, 4, 4])"
      ]
     },
     "execution_count": 29,
     "metadata": {},
     "output_type": "execute_result"
    }
   ],
   "source": [
    "first = net.net[0].weight\n",
    "first.shape"
   ]
  },
  {
   "cell_type": "code",
   "execution_count": 30,
   "id": "6cd43918",
   "metadata": {},
   "outputs": [
    {
     "data": {
      "text/plain": [
       "torch.Size([12, 4, 5, 5])"
      ]
     },
     "execution_count": 30,
     "metadata": {},
     "output_type": "execute_result"
    }
   ],
   "source": [
    "second = net.net[3].weight\n",
    "second.shape"
   ]
  },
  {
   "cell_type": "code",
   "execution_count": 51,
   "id": "82a9c8a4",
   "metadata": {},
   "outputs": [
    {
     "data": {
      "image/png": "[encoded data removed]",
      "text/plain": [
       "<Figure size 720x180 with 4 Axes>"
      ]
     },
     "metadata": {},
     "output_type": "display_data"
    }
   ],
   "source": [
    "fig,ax = plt.subplots(1,4, figsize = (10,2.5))\n",
    "for i,a in enumerate(ax.flatten()):\n",
    "    a.imshow(first[i,0,:,:].detach(),cmap='Greys')\n",
    "    a.set_xticks([])    \n",
    "    a.set_yticks([])\n",
    "\n",
    "fig.suptitle('Receptive field 1 conv layer', fontsize = 15)\n",
    "\n",
    "plt.savefig(\"img/rec_fi_1.png\", dpi =300)"
   ]
  },
  {
   "cell_type": "code",
   "execution_count": 52,
   "id": "9aa84759",
   "metadata": {},
   "outputs": [
    {
     "data": {
      "image/png": "[encoded data removed]",
      "text/plain": [
       "<Figure size 720x230.4 with 48 Axes>"
      ]
     },
     "metadata": {},
     "output_type": "display_data"
    }
   ],
   "source": [
    "fig,ax = plt.subplots(4,12, figsize = (10,3.2))\n",
    "\n",
    "for i,A in enumerate(ax):\n",
    "    for j,a in enumerate(A):\n",
    "        a.imshow(second[j,i,:,:].detach(),cmap='Greys')\n",
    "        a.set_xticks([])    \n",
    "        a.set_yticks([])\n",
    "        \n",
    "fig.suptitle('Receptive fields 2 conv layer', fontsize = 15)\n",
    "plt.savefig(\"img/rec_fi_2.png\", dpi =300)    "
   ]
  },
  {
   "cell_type": "code",
   "execution_count": null,
   "id": "5606fa8b",
   "metadata": {},
   "outputs": [],
   "source": []
  }
 ],
 "metadata": {
  "kernelspec": {
   "display_name": "Python 3 (ipykernel)",
   "language": "python",
   "name": "python3"
  },
  "language_info": {
   "codemirror_mode": {
    "name": "ipython",
    "version": 3
   },
   "file_extension": ".py",
   "mimetype": "text/x-python",
   "name": "python",
   "nbconvert_exporter": "python",
   "pygments_lexer": "ipython3",
   "version": "3.10.4"
  }
 },
 "nbformat": 4,
 "nbformat_minor": 5
}
